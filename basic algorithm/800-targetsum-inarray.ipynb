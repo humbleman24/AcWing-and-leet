{
 "cells": [
  {
   "cell_type": "markdown",
   "metadata": {},
   "source": [
    "### 800 The target sum in the arrays\n",
    "\n",
    "#### Problem Description\n",
    "Given two ascendingly sorted arrays `A` and `B`, and a target value `x`.\n",
    "\n",
    "Array indices start from 0.\n",
    "\n",
    "Find the pair `(i, j)` such that `A[i] + B[j] = x`.\n",
    "\n",
    "The data guarantees a unique solution.\n",
    "\n",
    "\n",
    "Input Format:\n",
    "\n",
    "The first line contains three integers `n`, `m`, and `x`, representing the lengths of arrays `A` and `B`, and the target value `x`, respectively.\n",
    "\n",
    "The second line contains `n` integers, representing the array `A`.\n",
    "\n",
    "The third line contains `m` integers, representing the array `B`.\n",
    "\n",
    "\n",
    "Output Format:\n",
    "\n",
    "A single line containing two integers `i` and `j`.\n",
    "\n",
    "\n",
    "\n",
    "\n",
    "Constraints: \n",
    "The length of the array does not exceed 10^5.\n",
    "Elements within the same array are distinct.\n",
    "1 ≤ Array elements ≤ 10^9\n",
    "\n",
    "\n",
    "Sample Input:\n",
    "\n",
    "4 5 6\n",
    "\n",
    "1 2 4 7\n",
    "\n",
    "3 4 6 8 9\n",
    "\n",
    "Sample Output:\n",
    "\n",
    "1 1\n"
   ]
  },
  {
   "cell_type": "code",
   "execution_count": null,
   "metadata": {},
   "outputs": [],
   "source": [
    "N = 100010\n",
    "n,m,x = list(map(int,input().split()))\n",
    "\n",
    "a = list(map(int,input().split()))\n",
    "b = list(map(int,input().split()))\n",
    "\n",
    "    \n",
    "i = 0\n",
    "j = m-1\n",
    "while i < n:\n",
    "    while j>=0 and a[i]+b[j]>x:\n",
    "        j -= 1\n",
    "    if a[i] + b[j] == x:\n",
    "        print(i,j)\n",
    "        break\n",
    "    i += 1"
   ]
  }
 ],
 "metadata": {
  "language_info": {
   "name": "python"
  }
 },
 "nbformat": 4,
 "nbformat_minor": 2
}
