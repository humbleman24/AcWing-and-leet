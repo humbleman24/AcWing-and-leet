{
 "cells": [
  {
   "cell_type": "markdown",
   "metadata": {},
   "source": [
    "### 872 biggest divisor\n",
    "#### Problem Description\n",
    "Given \\( n \\) pairs of positive integers \\( a_i, b_i \\), calculate the greatest common divisor (GCD) for each pair.\n",
    "\n",
    "\n",
    "Input Format:\n",
    "\n",
    "The first line contains an integer \\( n \\).\n",
    "\n",
    "The following \\( n \\) lines each contain a pair of integers \\( a_i, b_i \\).\n",
    "\n",
    "\n",
    "Output Format\n",
    "\n",
    "Output \\( n \\) lines, each line containing the greatest common divisor (GCD) of each integer pair.\n",
    "\n",
    "\n",
    "Constraints\n",
    "\n",
    "1 ≤ n ≤ 10^5,\n",
    "\n",
    "2 ≤ a_i, b_i ≤ 2 * 10^9\n",
    "\n",
    "\n",
    "Sample Input:\n",
    "\n",
    "2\n",
    "\n",
    "3 6\n",
    "\n",
    "4 6\n",
    "\n",
    "\n",
    "Sample Output:\n",
    "\n",
    "3\n",
    "\n",
    "2\n"
   ]
  },
  {
   "cell_type": "code",
   "execution_count": null,
   "metadata": {},
   "outputs": [],
   "source": [
    "def gcd(a,b):\n",
    "    return gcd(b,a%b) if b else a                  # remember to keep the right value\n",
    "\n",
    "n = int(input())\n",
    "for i in range(n):\n",
    "    a,b = map(int,input().split())\n",
    "    print(gcd(a,b))"
   ]
  }
 ],
 "metadata": {
  "language_info": {
   "name": "python"
  }
 },
 "nbformat": 4,
 "nbformat_minor": 2
}
