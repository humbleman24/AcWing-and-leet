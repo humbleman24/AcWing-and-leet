{
 "cells": [
  {
   "cell_type": "markdown",
   "metadata": {},
   "source": [
    "### 897 longest public acsending sub sequence \n",
    "#### Problem Description\n",
    "Given two strings, A and B, with lengths \\( N \\) and \\( M \\) respectively, find the length of the longest string that is a subsequence of both A and B.\n",
    "\n",
    "\n",
    "Input Format:\n",
    "\n",
    "The first line contains two integers \\( N \\) and \\( M \\).\n",
    "\n",
    "The second line contains a string of length \\( N \\), representing string \\( A \\).\n",
    "\n",
    "The third line contains a string of length \\( M \\), representing string \\( B \\).\n",
    "\n",
    "Both strings consist of lowercase letters.\n",
    "\n",
    "\n",
    "Output Format\n",
    "\n",
    "Output an integer, representing longest number.\n",
    "\n",
    "\n",
    "Constraints\n",
    "\n",
    "1 ≤ N , M ≤ 1000\n",
    "\n",
    "Sample Input:\n",
    "\n",
    "4 5\n",
    "\n",
    "acbd\n",
    "\n",
    "abedc\n",
    "\n",
    "Sample Output:\n",
    "\n",
    "3"
   ]
  },
  {
   "cell_type": "code",
   "execution_count": null,
   "metadata": {},
   "outputs": [],
   "source": [
    "N = 1010\n",
    "\n",
    "f = [[0 for i in range(N)] for j in range(N)]\n",
    "n,m = map(int,input().split())\n",
    "a = [0] + list(input())\n",
    "b = [0] + list(input())\n",
    "\n",
    "for i in range(1, n + 1):\n",
    "    for j in range(1, m + 1):\n",
    "        if a[i] == b[j]:\n",
    "            f[i][j] = f[i - 1][j - 1] + 1\n",
    "        else:\n",
    "            f[i][j] = max(f[i][j-1], f[i-1][j])\n",
    "\n",
    "print(f[n][m])\n",
    "\n"
   ]
  }
 ],
 "metadata": {
  "language_info": {
   "name": "python"
  }
 },
 "nbformat": 4,
 "nbformat_minor": 2
}
