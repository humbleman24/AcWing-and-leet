{
 "cells": [
  {
   "cell_type": "markdown",
   "metadata": {},
   "source": [
    "### 789 Range of number\n",
    "\n",
    "#### Problem Description\n",
    "Given an array of integers of length `n` sorted in ascending order, and `q` queries.\n",
    "\n",
    "For each query, return the starting and ending positions of an element `k` (positions start at 0).\n",
    "\n",
    "If the element does not exist in the array, return `-1 -1`.\n",
    "\n",
    "Input Format:\n",
    "\n",
    "The first line contains two integers `n` and `q`, indicating the length of the array and the number of queries, respectively.\n",
    "\n",
    "The second line contains `n` integers (all within the range of 1 to 10000), representing the complete array.\n",
    "\n",
    "The following `q` lines, each contain a single integer `k`, representing a query element.\n",
    "\n",
    "Output Format:\n",
    "\n",
    "There are `q` lines in total, each containing two integers, indicating the starting and ending positions of the element being queried.\n",
    "\n",
    "\n",
    "Constraints: 1 ≤ `n` ≤ 10000; 1 ≤ `q` ≤ 10000; 1 ≤ `k` ≤ 10000\n",
    "\n",
    "Sample Input:\n",
    "\n",
    "6 3\n",
    "\n",
    "1 2 2 3 3 4\n",
    "\n",
    "3\n",
    "\n",
    "4\n",
    "\n",
    "5\n",
    "\n",
    "Sample Output:\n",
    "\n",
    "3 4\n",
    "\n",
    "5 5\n",
    "\n",
    "-1 -1\n"
   ]
  },
  {
   "cell_type": "code",
   "execution_count": null,
   "metadata": {},
   "outputs": [],
   "source": [
    "def binarysearch(q,n,k):\n",
    "    # search for left one\n",
    "    l, r = 0, n-1\n",
    "    while l < r:\n",
    "        mid = l + r >> 1    #  update the mid\n",
    "        if q[mid] >= k:\n",
    "            r = mid\n",
    "        else:\n",
    "            l = mid + 1\n",
    "    if q[l] != k: \n",
    "        return '-1 -1'\n",
    "    else: left = l\n",
    "\n",
    "    # search for right one\n",
    "    l, r = 0, n-1\n",
    "    while l < r:\n",
    "        mid = l + r + 1 >> 1        # plus one\n",
    "        if q[mid] <= k:\n",
    "            l = mid\n",
    "        else:\n",
    "            r = mid -1\n",
    "    return '{} {}'.format(left,l)"
   ]
  },
  {
   "cell_type": "code",
   "execution_count": null,
   "metadata": {},
   "outputs": [],
   "source": [
    "n,m = list(map(int,input().split()))\n",
    "q = list(map(int,input().split()))\n",
    "\n",
    "while m > 0:\n",
    "    m -= 1\n",
    "    k = int(input())\n",
    "    print(binarysearch(q,n,k))"
   ]
  }
 ],
 "metadata": {
  "language_info": {
   "name": "python"
  }
 },
 "nbformat": 4,
 "nbformat_minor": 2
}
