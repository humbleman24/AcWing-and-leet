{
 "cells": [
  {
   "cell_type": "markdown",
   "metadata": {},
   "source": [
    "### 830 Monotonic Stack\n",
    "#### Problem Description\n",
    "\n",
    "Given a sequence of integers of length `N`, output the first smaller number to the left of each number. If no such number exists, output `-1`.\n",
    "\n",
    "\n",
    "\n",
    "Input Format:\n",
    "\n",
    "The first line contains an integer `N`, indicating the length of the integer sequence.\n",
    "\n",
    "The second line contains `N` integers, representing the integer sequence.\n",
    "\n",
    "Output Format\n",
    "\n",
    "A single line containing `N` integers, where the `i-th` integer represents the first integer smaller than the` i-th` integer on its left side. If no such integer exists, output `-1`.\n",
    "\n",
    "Constraints\n",
    "\n",
    "1 ≤ `N`≤ 10^5\n",
    "\n",
    "1 ≤ `Elements in the sequence` ≤ 10^9\n",
    "\n",
    "Sample Input:\n",
    "\n",
    "5\n",
    "\n",
    "3 4 2 7 5\n",
    "\n",
    "Sample Output:\n",
    "\n",
    "-1 3 -1 2 2"
   ]
  },
  {
   "cell_type": "code",
   "execution_count": null,
   "metadata": {},
   "outputs": [],
   "source": [
    "N = 100010\n",
    "arr = [0] * 1000010\n",
    "point = -1\n",
    "\n",
    "n = int(input())\n",
    "lst = list(map(int,input().split()))\n",
    "\n",
    "for i in range(n):\n",
    "    while point > -1:\n",
    "        # use >=, because the task asks for the smaller value!!\n",
    "        if arr[point] >= lst[i]:\n",
    "            point -= 1\n",
    "        else:\n",
    "            break\n",
    "    if point > -1:\n",
    "        print(arr[point],end=' ')\n",
    "    else:\n",
    "        print('-1',end=' ')\n",
    "    point += 1\n",
    "    arr[point] = lst[i]\n"
   ]
  }
 ],
 "metadata": {
  "language_info": {
   "name": "python"
  }
 },
 "nbformat": 4,
 "nbformat_minor": 2
}
