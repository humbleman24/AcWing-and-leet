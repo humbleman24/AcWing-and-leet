{
 "cells": [
  {
   "cell_type": "markdown",
   "metadata": {},
   "source": [
    "### 788 Count of Reverse Pair\n",
    "\n",
    "#### Problem Description\n",
    "Given an array of `n` elements, count the number of reverse pair in the array.\n",
    "\n",
    "Definition of reverse pair: In array, the `ith` and `jth` elements are called as a reverse pair, if i < j and array[i] > array[j], otherwise are not.\n",
    "\n",
    "Input Format:\n",
    "\n",
    "The first line contains an integer `n`, the size of the array.\n",
    "\n",
    "The second line contains `n` integers (the value of each integer is between 1 and 10^9 inclusive), which are the elements of the array.\n",
    "\n",
    "Output Format:\n",
    "\n",
    "Output a integer, representing the number of reverse pair.\n",
    "\n",
    "Constraints: 1 ≤ `n` ≤ 10000\n",
    "\n",
    "Sample Input:\n",
    "\n",
    "6\n",
    "\n",
    "2 3 4 5 6 1\n",
    "\n",
    "Sample Output:\n",
    "\n",
    "5\n"
   ]
  },
  {
   "cell_type": "code",
   "execution_count": null,
   "metadata": {},
   "outputs": [],
   "source": [
    "# in my perspective, this pattern is used when task relate to pair-wise comparsion and relate to value.\n",
    "\n",
    "def reverse_pair(q,l,r):\n",
    "    if l >= r: return 0\n",
    "    mid = l + r >> 1\n",
    "    # calculate the number from 0\n",
    "    num = reverse_pair(q,l,mid) + reverse_pair(q,mid+1,r)\n",
    "    i, j, pivot = l, mid+1, 0\n",
    "    # remember the list has to be sorted during the recursion.\n",
    "    while i <= mid and j <= r:\n",
    "        if q[i] <= q[j]:                         # doing the sort job\n",
    "            temp[pivot] = q[i]\n",
    "            pivot += 1\n",
    "            i += 1\n",
    "        else:                                    # doing the sort job and counting reverse pair\n",
    "            temp[pivot] = q[j]\n",
    "            pivot += 1\n",
    "            j += 1\n",
    "            num += mid - i + 1                   # the monotonic property of sorted list.\n",
    "    # do the same as merge sort when one of the upper condition in while meet\n",
    "    while i <= mid:\n",
    "        temp[pivot] = q[i]\n",
    "        pivot += 1\n",
    "        i += 1\n",
    "    while j <= r:\n",
    "        temp[pivot] = q[j]\n",
    "        pivot += 1\n",
    "        j += 1\n",
    "    i = l\n",
    "    pivot = 0\n",
    "    # important to keep the list sorted during the computation\n",
    "    while i <= r:\n",
    "        q[i] = temp[pivot]\n",
    "        i += 1\n",
    "        pivot += 1\n",
    "    return num"
   ]
  },
  {
   "cell_type": "code",
   "execution_count": null,
   "metadata": {},
   "outputs": [],
   "source": [
    "n = int(input())\n",
    "q = list(map(int,input().split()))\n",
    "temp = [None] * 100010\n",
    "print(reverse_pair(q,0,n-1))"
   ]
  }
 ],
 "metadata": {
  "language_info": {
   "name": "python"
  }
 },
 "nbformat": 4,
 "nbformat_minor": 2
}
