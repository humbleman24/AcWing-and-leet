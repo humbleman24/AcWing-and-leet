{
 "cells": [
  {
   "cell_type": "markdown",
   "metadata": {},
   "source": [
    "### 868 filt out all prime\n",
    "#### Problem Description\n",
    "Given a positive integer \\( n \\), determine the number of prime numbers between 1 and \\( n \\) (inclusive).\n",
    "\n",
    "Input Format:\n",
    "\n",
    "The first line contains an integer \\( n \\).\n",
    "\n",
    "\n",
    "\n",
    "Output Format\n",
    "\n",
    "Output a single line containing an integer, representing the number of prime numbers between 1 and \\( n \\) (inclusive).\n",
    "\n",
    "\n",
    "Constraints\n",
    "\n",
    "1 ≤ n ≤ 10^6\n",
    "\n",
    "\n",
    "\n",
    "Sample Input:\n",
    "\n",
    "8\n",
    "\n",
    "Sample Output:\n",
    "\n",
    "4\n"
   ]
  },
  {
   "cell_type": "code",
   "execution_count": null,
   "metadata": {},
   "outputs": [],
   "source": [
    "def filt1(x):\n",
    "    st = [0] * (x + 1)            # index from 1 --- n\n",
    "    cnt = 0\n",
    "    for i in range(2,x+1):\n",
    "        if st[i] < 1:\n",
    "            cnt += 1\n",
    "            for j in range(i,x+1,i):\n",
    "                st[j] += 1\n",
    "    return cnt\n",
    "\n",
    "print(filt1(int(input())))\n",
    "\n",
    "# in range(n), there are n / ln(n) primes\n",
    "            "
   ]
  },
  {
   "cell_type": "code",
   "execution_count": null,
   "metadata": {},
   "outputs": [],
   "source": [
    "def filt2(x):\n",
    "    st = [0] * (x + 1)\n",
    "    prime = [0] * x\n",
    "    cnt = 0\n",
    "\n",
    "    for i in range(2,x+1):\n",
    "        if not st[i]:\n",
    "            prime[cnt] = i\n",
    "            cnt += 1\n",
    "        j = 0\n",
    "        while prime[j] <= x / i:\n",
    "            st[prime[j] * i] = 1\n",
    "            if i % prime[j] == 0: break\n",
    "            j += 1\n",
    "    return cnt\n",
    "print(filt2(int(input())))"
   ]
  }
 ],
 "metadata": {
  "language_info": {
   "name": "python"
  }
 },
 "nbformat": 4,
 "nbformat_minor": 2
}
