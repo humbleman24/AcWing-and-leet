{
 "cells": [
  {
   "cell_type": "markdown",
   "metadata": {},
   "source": [
    "### 854 Floyd\n",
    "#### Problem Description\n",
    "\n",
    "Given a directed graph with \\( n \\) vertices and \\( m \\) edges, the graph may contain parallel edges and self-loops, and edge weights may be negative.\n",
    "\n",
    "Additionally, there are \\( k \\) queries, each containing two integers \\( x \\) and \\( y \\), asking for the shortest distance from vertex \\( x \\) to vertex \\( y \\). If a path does not exist, output `impossible`.\n",
    "\n",
    "It is guaranteed that the graph does not contain any negative weight cycles.\n",
    "\n",
    "\n",
    "Input Format:\n",
    "\n",
    "The first line contains three integers \\( n \\), \\( m \\), and \\( k \\).\n",
    "\n",
    "The following \\( m \\) lines each contain three integers \\( x \\), \\( y \\), and \\( z \\), indicating that there is a directed edge from vertex \\( x \\) to vertex \\( y \\) with a length of \\( z \\).\n",
    "\n",
    "The next \\( k \\) lines each contain two integers \\( x \\) and \\( y \\), representing a query for the shortest distance from vertex \\( x \\) to vertex \\( y \\).\n",
    "\n",
    "\n",
    "Output Format:\n",
    "\n",
    "Output \\( k \\) lines, each containing an integer. This integer represents the result of each query. If there is no path between the queried vertices, output `impossible`.\n",
    "\n",
    "\n",
    "\n",
    "Constraints:\n",
    "\n",
    "1 ≤ n ≤ 200,\n",
    "\n",
    "1 ≤ k ≤ n^2\n",
    "\n",
    "1 ≤ m ≤ 20,000,\n",
    "\n",
    "The absolute value of any edge weight in the graph does not exceed 10,000.\n",
    "\n",
    "\n",
    "\n",
    "Sample Input:\n",
    "\n",
    "3 3 2\n",
    "\n",
    "1 2 1\n",
    "\n",
    "2 3 2\n",
    "\n",
    "1 3 1\n",
    "\n",
    "2 1\n",
    "\n",
    "1 3\n",
    "\n",
    "Sample Output:\n",
    "\n",
    "impossible\n",
    "\n",
    "1"
   ]
  },
  {
   "cell_type": "code",
   "execution_count": 7,
   "metadata": {},
   "outputs": [
    {
     "name": "stdout",
     "output_type": "stream",
     "text": [
      "210\n"
     ]
    }
   ],
   "source": [
    "N = 210\n",
    "d = [[float('inf')]*i + [0] + [float('inf')]*(N-i-1) for i in range(N)]\n",
    "\n",
    "def floyd():\n",
    "    for k in range(1,1+n):\n",
    "        for i in range(1,1+n):\n",
    "            for j in range(1,1+n):\n",
    "                d[i][j] = min(d[i][j],d[i][k] + d[k][j])\n",
    "\n",
    "n,m,k = map(int,input().split())\n",
    "for i in range(m):\n",
    "    a,b,z = map(int,input().split())\n",
    "    d[a][b] = min(d[a][b],z)\n",
    "floyd()\n",
    "for j in range(k):\n",
    "    a,b = map(int,input().split())\n",
    "    if d[a][b] == float('inf'):\n",
    "        print('impossible')\n",
    "    else:\n",
    "        print(d[a][b])"
   ]
  }
 ],
 "metadata": {
  "kernelspec": {
   "display_name": "base",
   "language": "python",
   "name": "python3"
  },
  "language_info": {
   "codemirror_mode": {
    "name": "ipython",
    "version": 3
   },
   "file_extension": ".py",
   "mimetype": "text/x-python",
   "name": "python",
   "nbconvert_exporter": "python",
   "pygments_lexer": "ipython3",
   "version": "3.9.12"
  }
 },
 "nbformat": 4,
 "nbformat_minor": 2
}
