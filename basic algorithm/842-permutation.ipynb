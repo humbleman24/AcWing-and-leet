{
 "cells": [
  {
   "cell_type": "markdown",
   "metadata": {},
   "source": [
    "### 842 Permutation\n",
    "#### Problem Description\n",
    "Given an integer \\( n \\), the numbers from 1 to \\( n \\) can be arranged in many different ways.\n",
    "\n",
    "Now, please output all the permutations of these numbers in lexicographical order.\n",
    "\n",
    "\n",
    "Input Format:\n",
    "\n",
    "A single line containing one integer \\( n \\).\n",
    "\n",
    "\n",
    "Output Format\n",
    "\n",
    "Output all permutations in lexicographical order, with each permutation on a new line.\n",
    "\n",
    "\n",
    "Constraints\n",
    "\n",
    "1 ≤ n ≤ 7\n",
    "\n",
    "\n",
    "Sample Input:\n",
    "\n",
    "3\n",
    "\n",
    "\n",
    "Sample Output:\n",
    "\n",
    "1 2 3\n",
    "\n",
    "1 3 2\n",
    "\n",
    "2 1 3\n",
    "\n",
    "2 3 1\n",
    "\n",
    "3 1 2\n",
    "\n",
    "3 2 1"
   ]
  },
  {
   "cell_type": "code",
   "execution_count": 2,
   "metadata": {},
   "outputs": [
    {
     "name": "stdout",
     "output_type": "stream",
     "text": [
      "1 2 3\n",
      "1 3 2\n",
      "2 1 3\n",
      "2 3 1\n",
      "3 1 2\n",
      "3 2 1\n"
     ]
    }
   ],
   "source": [
    "\n",
    "n = int(input())\n",
    "\n",
    "def order(x,lst,n):\n",
    "    if len(x) == n:\n",
    "        print(' '.join(x))\n",
    "        return None\n",
    "    candidate = lst.copy()                      # contains the numbers that haven't been used, can be implemented as a boolean list \n",
    "    for index,i in enumerate(lst):\n",
    "        x.append(i)\n",
    "        candidate.remove(i)\n",
    "        order(x,candidate,n)\n",
    "        candidate.insert(index,i)               # keep the dictionary order\n",
    "        x.remove(i)\n",
    "    return None\n",
    "\n",
    "def dfs(x,u):\n",
    "    if u == n:\n",
    "        print(' '.join(x))\n",
    "    for i in range(1,n+1):\n",
    "        if boo[i]:\n",
    "            x.append(str(i))\n",
    "            boo[i] = False\n",
    "            dfs(x,u+1)\n",
    "            boo[i] = True\n",
    "            x.remove(str(i))\n",
    "    return None\n",
    "\n",
    "boo = [True for i in range(n+1)]\n",
    "dfs([],0)\n",
    "\n",
    "order([],['{}'.format(i) for i in range(1,n+1)],n)\n",
    "\n",
    "\n",
    "\n"
   ]
  }
 ],
 "metadata": {
  "kernelspec": {
   "display_name": "base",
   "language": "python",
   "name": "python3"
  },
  "language_info": {
   "codemirror_mode": {
    "name": "ipython",
    "version": 3
   },
   "file_extension": ".py",
   "mimetype": "text/x-python",
   "name": "python",
   "nbconvert_exporter": "python",
   "pygments_lexer": "ipython3",
   "version": "3.9.12"
  }
 },
 "nbformat": 4,
 "nbformat_minor": 2
}
