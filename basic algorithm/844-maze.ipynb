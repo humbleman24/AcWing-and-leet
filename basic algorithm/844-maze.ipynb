{
 "cells": [
  {
   "cell_type": "markdown",
   "metadata": {},
   "source": [
    "### 844 Maze\n",
    "#### Problem Description\n",
    "Given an \\( n \\times m \\) two-dimensional integer array representing a maze, the array contains only 0s and 1s, where 0 indicates a passable path and 1 indicates an impassable wall.\n",
    "\n",
    "Initially, a person is located at the top-left corner (1,1), and it is known that the person can move one position in any of the four directions: up, down, left, or right.\n",
    "\n",
    "Determine the minimum number of moves required for the person to travel from the top-left corner to the bottom-right corner (n,m).\n",
    "\n",
    "It is guaranteed that the numbers at (1,1) and (n,m) are 0, and there is at least one passable route.\n",
    "\n",
    "Input Format:\n",
    "\n",
    "The first line contains two integers \\( n \\) and \\( m \\).\n",
    "\n",
    "The next \\( n \\) lines each contain \\( m \\) integers (0 or 1), representing the complete two-dimensional array of the maze.\n",
    "\n",
    "\n",
    "Output Format\n",
    "\n",
    "Output an integer representing the minimum number of moves required to travel from the top-left corner to the bottom-right corner.\n",
    "\n",
    "\n",
    "Constraints\n",
    "\n",
    "1 ≤ n , m ≤ 100\n",
    "\n",
    "\n",
    "Sample Input:\n",
    "\n",
    "5 5\n",
    "\n",
    "0 1 0 0 0\n",
    "\n",
    "0 1 0 1 0\n",
    "\n",
    "0 0 0 0 0\n",
    "\n",
    "0 1 1 1 0\n",
    "\n",
    "0 0 0 1 0\n",
    "\n",
    "\n",
    "Sample Output:\n",
    "\n",
    "8"
   ]
  },
  {
   "cell_type": "code",
   "execution_count": 3,
   "metadata": {},
   "outputs": [],
   "source": [
    "n, m = map(int,input().split())\n",
    "maze = []\n",
    "for i in range(n):\n",
    "    row = list(map(int,input().split()))\n",
    "    maze.append(row)\n",
    "\n",
    "def bfs():\n",
    "    while len(fringe) > 0:\n",
    "        point = fringe.pop(0)\n",
    "        if point[:2] == (n-1,m-1):\n",
    "            print(point[-1])\n",
    "        for d in direction:\n",
    "            new = (point[0]+d[0],point[1]+d[1])\n",
    "            if 0<=new[0]<n and 0<=new[1]<m and new not in visited:\n",
    "                if not maze[new[0]][new[1]]:\n",
    "                    visited.add(new)\n",
    "                    fringe.append(new+(point[-1]+1,))\n",
    "\n",
    "direction = [(-1,0),(0,1),(1,0),(0,-1)]\n",
    "fringe = [(0,0,0)]                               # need and another value to determine the path!!!\n",
    "visited = set()\n",
    "visited.add((0,0))\n",
    "path = 0\n",
    "bfs()"
   ]
  }
 ],
 "metadata": {
  "kernelspec": {
   "display_name": "base",
   "language": "python",
   "name": "python3"
  },
  "language_info": {
   "codemirror_mode": {
    "name": "ipython",
    "version": 3
   },
   "file_extension": ".py",
   "mimetype": "text/x-python",
   "name": "python",
   "nbconvert_exporter": "python",
   "pygments_lexer": "ipython3",
   "version": "3.9.12"
  }
 },
 "nbformat": 4,
 "nbformat_minor": 2
}
