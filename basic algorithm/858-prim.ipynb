{
 "cells": [
  {
   "cell_type": "markdown",
   "metadata": {},
   "source": [
    "### 858 Prim\n",
    "#### Problem Description\n",
    "\n",
    "Given an undirected graph with \\( n \\) vertices and \\( m \\) edges, the graph may contain parallel edges and self-loops, and edge weights may be negative.\n",
    "\n",
    "Find the sum of the edge weights of the minimum spanning tree. If a minimum spanning tree does not exist, output `impossible`.\n",
    "\n",
    "Given an undirected weighted graph \\( G=(V,E) \\), where \\( V \\) represents the set of vertices in the graph and \\( E \\) represents the set of edges, with \\( n=|V| \\) and \\( m=|E| \\).\n",
    "\n",
    "A connected subgraph of \\( G \\) consisting of all \\( n \\) vertices and \\( n-1 \\) edges from \\( E \\) is called a spanning tree of \\( G \\). The spanning tree with the smallest sum of edge weights is called the minimum spanning tree of the undirected graph \\( G \\).\n",
    "\n",
    "\n",
    "Input Format:\n",
    "\n",
    "The first line contains two integers \\( n \\) and \\( m \\).\n",
    "\n",
    "The following \\( m \\) lines each contain three integers \\( u \\), \\( v \\), and \\( w \\), indicating that there is an edge between vertex \\( u \\) and vertex \\( v \\) with a weight of \\( w \\).\n",
    "\n",
    "\n",
    "\n",
    "Output Format:\n",
    "\n",
    "In a single line, if a minimum spanning tree exists, output an integer representing the sum of the edge weights of the minimum spanning tree. If a minimum spanning tree does not exist, output `impossible`.\n",
    "\n",
    "\n",
    "Constraints:\n",
    "\n",
    "1 ≤ n ≤ 500,\n",
    "\n",
    "1 ≤ m ≤ 10^5,\n",
    "\n",
    "The absolute value of any edge weight in the graph does not exceed 10,000.\n",
    "\n",
    "\n",
    "Sample Input:\n",
    "\n",
    "4 5\n",
    "\n",
    "1 2 1\n",
    "\n",
    "1 3 2\n",
    "\n",
    "1 4 3\n",
    "\n",
    "2 3 2\n",
    "\n",
    "3 4 4\n",
    "\n",
    "Sample Output:\n",
    "\n",
    "6"
   ]
  },
  {
   "cell_type": "code",
   "execution_count": 1,
   "metadata": {},
   "outputs": [
    {
     "name": "stdout",
     "output_type": "stream",
     "text": [
      "[0, 16191, 16191, 16191, 16191, 16191, 16191, 16191, 16191, 16191, 16191, 16191, 16191, 16191, 16191, 16191, 16191, 16191, 16191, 16191, 16191, 16191, 16191, 16191, 16191, 16191, 16191, 16191, 16191, 16191, 16191, 16191, 16191, 16191, 16191, 16191, 16191, 16191, 16191, 16191, 16191, 16191, 16191, 16191, 16191, 16191, 16191, 16191, 16191, 16191, 16191, 16191, 16191, 16191, 16191, 16191, 16191, 16191, 16191, 16191, 16191, 16191, 16191, 16191, 16191, 16191, 16191, 16191, 16191, 16191, 16191, 16191, 16191, 16191, 16191, 16191, 16191, 16191, 16191, 16191, 16191, 16191, 16191, 16191, 16191, 16191, 16191, 16191, 16191, 16191, 16191, 16191, 16191, 16191, 16191, 16191, 16191, 16191, 16191, 16191, 16191, 16191, 16191, 16191, 16191, 16191, 16191, 16191, 16191, 16191, 16191, 16191, 16191, 16191, 16191, 16191, 16191, 16191, 16191, 16191, 16191, 16191, 16191, 16191, 16191, 16191, 16191, 16191, 16191, 16191, 16191, 16191, 16191, 16191, 16191, 16191, 16191, 16191, 16191, 16191, 16191, 16191, 16191, 16191, 16191, 16191, 16191, 16191, 16191, 16191, 16191, 16191, 16191, 16191, 16191, 16191, 16191, 16191, 16191, 16191, 16191, 16191, 16191, 16191, 16191, 16191, 16191, 16191, 16191, 16191, 16191, 16191, 16191, 16191, 16191, 16191, 16191, 16191, 16191, 16191, 16191, 16191, 16191, 16191, 16191, 16191, 16191, 16191, 16191, 16191, 16191, 16191, 16191, 16191, 16191, 16191, 16191, 16191, 16191, 16191, 16191, 16191, 16191, 16191, 16191, 16191, 16191, 16191, 16191, 16191, 16191, 16191, 16191, 16191, 16191, 16191, 16191, 16191, 16191, 16191, 16191, 16191, 16191, 16191, 16191, 16191, 16191, 16191, 16191, 16191, 16191, 16191, 16191, 16191, 16191, 16191, 16191, 16191, 16191, 16191, 16191, 16191, 16191, 16191, 16191, 16191, 16191, 16191, 16191, 16191, 16191, 16191, 16191, 16191, 16191, 16191, 16191, 16191, 16191, 16191, 16191, 16191, 16191, 16191, 16191, 16191, 16191, 16191, 16191, 16191, 16191, 16191, 16191, 16191, 16191, 16191, 16191, 16191, 16191, 16191, 16191, 16191, 16191, 16191, 16191, 16191, 16191, 16191, 16191, 16191, 16191, 16191, 16191, 16191, 16191, 16191, 16191, 16191, 16191, 16191, 16191, 16191, 16191, 16191, 16191, 16191, 16191, 16191, 16191, 16191, 16191, 16191, 16191, 16191, 16191, 16191, 16191, 16191, 16191, 16191, 16191, 16191, 16191, 16191, 16191, 16191, 16191, 16191, 16191, 16191, 16191, 16191, 16191, 16191, 16191, 16191, 16191, 16191, 16191, 16191, 16191, 16191, 16191, 16191, 16191, 16191, 16191, 16191, 16191, 16191, 16191, 16191, 16191, 16191, 16191, 16191, 16191, 16191, 16191, 16191, 16191, 16191, 16191, 16191, 16191, 16191, 16191, 16191, 16191, 16191, 16191, 16191, 16191, 16191, 16191, 16191, 16191, 16191, 16191, 16191, 16191, 16191, 16191, 16191, 16191, 16191, 16191, 16191, 16191, 16191, 16191, 16191, 16191, 16191, 16191, 16191, 16191, 16191, 16191, 16191, 16191, 16191, 16191, 16191, 16191, 16191, 16191, 16191, 16191, 16191, 16191, 16191, 16191, 16191, 16191, 16191, 16191, 16191, 16191, 16191, 16191, 16191, 16191, 16191, 16191, 16191, 16191, 16191, 16191, 16191, 16191, 16191, 16191, 16191, 16191, 16191, 16191, 16191, 16191, 16191, 16191, 16191, 16191, 16191, 16191, 16191, 16191, 16191, 16191, 16191, 16191, 16191, 16191, 16191, 16191, 16191, 16191, 16191, 16191, 16191, 16191, 16191, 16191, 16191, 16191, 16191, 16191, 16191, 16191, 16191, 16191, 16191, 16191, 16191, 16191, 16191, 16191, 16191, 16191, 16191, 16191, 16191, 16191, 16191, 16191, 16191, 16191, 16191, 16191, 16191, 16191, 16191, 16191, 16191, 16191, 16191, 16191, 16191, 16191, 16191]\n"
     ]
    }
   ],
   "source": [
    "N = 510                                          # size!!!\n",
    "weight = [[0x3f3f]*i + [0] + [0x3f3f]*(N-i-1) for i in range(N)]\n",
    "dist = [0x3f3f] * N\n",
    "dist[1] = 0\n",
    "\n",
    "\n",
    "def prim():\n",
    "    visit = set()\n",
    "    for i in range(n):\n",
    "        point = 0\n",
    "        for j in range(1,n+1):\n",
    "            if dist[j] < dist[point] and j not in visit:             # not visit\n",
    "                point = j\n",
    "        if point == 0:                    \n",
    "            return 'impossible'\n",
    "        visit.add(point)\n",
    "        for k in range(1,n+1):\n",
    "            if k not in visit:                                      # important!!!!!!!!!\n",
    "                dist[k] = min(dist[k],weight[point][k])\n",
    "    return sum(dist[1:n+1])\n",
    "            \n",
    "\n",
    "\n",
    "n,m = map(int,input().split())\n",
    "for i in range(m):\n",
    "    a,b,z = map(int,input().split())\n",
    "    weight[a][b] = min(weight[a][b],z)\n",
    "    weight[b][a] = min(weight[b][a],z)\n",
    "print(prim())\n"
   ]
  }
 ],
 "metadata": {
  "kernelspec": {
   "display_name": "base",
   "language": "python",
   "name": "python3"
  },
  "language_info": {
   "codemirror_mode": {
    "name": "ipython",
    "version": 3
   },
   "file_extension": ".py",
   "mimetype": "text/x-python",
   "name": "python",
   "nbconvert_exporter": "python",
   "pygments_lexer": "ipython3",
   "version": "3.9.12"
  }
 },
 "nbformat": 4,
 "nbformat_minor": 2
}
