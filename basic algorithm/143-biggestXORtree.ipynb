{
 "cells": [
  {
   "cell_type": "markdown",
   "metadata": {},
   "source": [
    "### 143 Biggest XOR pair\n",
    "#### Problem Description\n",
    "Given \\( N \\) integers \\( A_1, A_2, ..., A_N \\), what is the maximum result obtained by performing an XOR operation on any two of these integers?\n",
    "\n",
    "\n",
    "Input Format:\n",
    "\n",
    "The first line inputs an integer \\( N \\).\n",
    "\n",
    "The second line inputs \\( N \\) integers \\( A_1 \\) to \\( A_N \\).\n",
    "\n",
    "\n",
    "\n",
    "Output Format\n",
    "\n",
    "Output an integer representing the answer.\n",
    "\n",
    "\n",
    "\n",
    "Constraints\n",
    "\n",
    "1 ≤ N ≤ 10^5,\n",
    "0 ≤ A_i < 2^{31}\n",
    "\n",
    "\n",
    "Sample Input:\n",
    "\n",
    "3\n",
    "\n",
    "1 2 3\n",
    "\n",
    "Sample Output:\n",
    "\n",
    "3"
   ]
  },
  {
   "cell_type": "code",
   "execution_count": 8,
   "metadata": {},
   "outputs": [
    {
     "name": "stdout",
     "output_type": "stream",
     "text": [
      "3\n"
     ]
    }
   ],
   "source": [
    "trie = [[0,0] for i in range(3000000)]\n",
    "idx = 0\n",
    "\n",
    "def insert(dig):\n",
    "    global idx\n",
    "    p = 0\n",
    "    for i in range(30,-1,-1):\n",
    "        d = (dig >> i) & 1\n",
    "        if trie[p][d] == 0:\n",
    "            idx += 1\n",
    "            trie[p][d] = idx\n",
    "        p = trie[p][d]\n",
    "\n",
    "def search(dig):\n",
    "    res = 0\n",
    "    p = 0\n",
    "    for i in range(30,-1,-1):\n",
    "        d = (dig >> i) & 1\n",
    "        if trie[p][not d]:\n",
    "            res += 1 << i\n",
    "            p = trie[p][not d]\n",
    "        else: p = trie[p][d]\n",
    "    return res\n",
    "\n",
    "n = int(input())\n",
    "arr = list(map(int,input().split()))\n",
    "\n",
    "for i in range(n):\n",
    "    insert(arr[i])\n",
    "\n",
    "\n",
    "res = 0\n",
    "for i in range(n):\n",
    "    res = max(res,search(arr[i]))\n",
    "\n",
    "print(res)"
   ]
  }
 ],
 "metadata": {
  "kernelspec": {
   "display_name": "base",
   "language": "python",
   "name": "python3"
  },
  "language_info": {
   "codemirror_mode": {
    "name": "ipython",
    "version": 3
   },
   "file_extension": ".py",
   "mimetype": "text/x-python",
   "name": "python",
   "nbconvert_exporter": "python",
   "pygments_lexer": "ipython3",
   "version": "3.9.12"
  }
 },
 "nbformat": 4,
 "nbformat_minor": 2
}
