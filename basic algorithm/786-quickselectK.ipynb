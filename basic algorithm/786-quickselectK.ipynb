{
 "cells": [
  {
   "cell_type": "markdown",
   "metadata": {},
   "source": [
    "### 786 Qucikselect the Kth number\n",
    "\n",
    "#### Problem Description\n",
    "Given an array of `n` elements and a integer `k`, please use **Quick Select** to get the k th number in the sorted array.\n",
    "\n",
    "Input Format:\n",
    "\n",
    "The first line contains two integers `n` and `k`.\n",
    "\n",
    "The second line contains `n` integers (the value of each integer is between 1 and 10^9 inclusive), which are the elements of the array.\n",
    "\n",
    "Output Format:\n",
    "\n",
    "Output an integer, represent the k th number in the array.\n",
    "\n",
    "Constraints: 1 ≤ `n` ≤ 10000; 1 ≤ `k` ≤ `n`\n",
    "\n",
    "Sample Input:\n",
    "\n",
    "5 3\n",
    "\n",
    "3 1 2 4 5\n",
    "\n",
    "Sample Output:\n",
    "\n",
    "3\n"
   ]
  },
  {
   "cell_type": "code",
   "execution_count": 1,
   "metadata": {},
   "outputs": [],
   "source": [
    "# take advantage of quick sort and only sort half of the array\n",
    "def quickselect(l,r,k):\n",
    "    #  remain the same as quick sort\n",
    "    if l == r:\n",
    "        return q[l]\n",
    "    x = q[l+r >> 1]\n",
    "    i = l - 1\n",
    "    j = r + 1\n",
    "    while i < j:\n",
    "        i += 1\n",
    "        while q[i] < x:\n",
    "            i += 1\n",
    "        j -= 1\n",
    "        while q[j] > x:\n",
    "            j -= 1\n",
    "        \n",
    "        if i < j:\n",
    "            q[i], q[j] = q[j], q[i]\n",
    "    sl = j - l + 1\n",
    "    # only need to consider one side of the array\n",
    "    # since quick sort permits the other side's numbers would \n",
    "    # all smaller or bigger than this side\n",
    "    if k <= sl:                  \n",
    "        return quickselect(l, j, k)\n",
    "    else:\n",
    "        return quickselect(j+1, r, k - sl)"
   ]
  },
  {
   "cell_type": "code",
   "execution_count": 2,
   "metadata": {},
   "outputs": [
    {
     "name": "stdout",
     "output_type": "stream",
     "text": [
      "3\n"
     ]
    }
   ],
   "source": [
    "n, k = list(map(int,input().split()))\n",
    "q = list(map(int,input().split()))\n",
    "\n",
    "print(quickselect(0,n - 1,k))"
   ]
  }
 ],
 "metadata": {
  "kernelspec": {
   "display_name": "base",
   "language": "python",
   "name": "python3"
  },
  "language_info": {
   "codemirror_mode": {
    "name": "ipython",
    "version": 3
   },
   "file_extension": ".py",
   "mimetype": "text/x-python",
   "name": "python",
   "nbconvert_exporter": "python",
   "pygments_lexer": "ipython3",
   "version": "3.9.12"
  }
 },
 "nbformat": 4,
 "nbformat_minor": 2
}
