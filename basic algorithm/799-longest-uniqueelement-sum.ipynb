{
 "cells": [
  {
   "cell_type": "markdown",
   "metadata": {},
   "source": [
    "### 799 Longest unique element sum\n",
    "\n",
    "#### Problem Description\n",
    "Given an integer sequence of length `n`, find the longest continuous interval that does not contain any duplicate numbers, and output its length.\n",
    "\n",
    "\n",
    "Input Format:\n",
    "\n",
    "The first line contains an integer `n`.\n",
    "\n",
    "The second line contains `n` integers (all within the range of 0 to 10^5), representing the integer sequence.\n",
    "\n",
    "\n",
    "\n",
    "Output Format:\n",
    "\n",
    "A single line containing one integer, indicating the length of the longest continuous interval without any duplicate numbers.\n",
    "\n",
    "\n",
    "\n",
    "Constraints: \n",
    "1 ≤ `n` ≤ 100000,\n",
    "\n",
    "Sample Input:\n",
    "\n",
    "5\n",
    "\n",
    "1 2 2 3 5\n",
    "\n",
    "Sample Output:\n",
    "\n",
    "3\n"
   ]
  },
  {
   "cell_type": "code",
   "execution_count": null,
   "metadata": {},
   "outputs": [],
   "source": [
    "n = int(input())\n",
    "a = list(map(int,input().split()))\n",
    "s = [0] * 100010             # use to calculate the unqiue number.\n",
    "\n",
    "count = 1\n",
    "j = 0\n",
    "for i in range(n):\n",
    "    s[a[i]] += 1\n",
    "    while s[a[i]] > 1:             \n",
    "        s[a[j]] -= 1\n",
    "        j += 1\n",
    "    count = max(count,i-j+1)\n",
    "\n",
    "print(count)\n"
   ]
  }
 ],
 "metadata": {
  "language_info": {
   "name": "python"
  }
 },
 "nbformat": 4,
 "nbformat_minor": 2
}
