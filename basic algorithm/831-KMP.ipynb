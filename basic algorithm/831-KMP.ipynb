{
 "cells": [
  {
   "cell_type": "markdown",
   "metadata": {},
   "source": [
    "### 831 KMP\n",
    "#### Problem Description\n",
    "Given a string \\( S \\) and a pattern \\( P \\), where all strings consist only of uppercase and lowercase English letters and Arabic numerals.\n",
    "\n",
    "The pattern \\( P \\) appears multiple times as a substring in the string \\( S \\).\n",
    "\n",
    "Determine all starting indices where the pattern \\( P \\) appears in the string \\( S \\).\n",
    "\n",
    "\n",
    "\n",
    "Input Format:\n",
    "\n",
    "The first line inputs an integer \\( N \\), representing the length of the pattern string \\( P \\).\n",
    "\n",
    "The second line inputs the string \\( P \\).\n",
    "\n",
    "The third line inputs an integer \\( M \\), representing the length of the main string \\( S \\).\n",
    "\n",
    "The fourth line inputs the string \\( S \\).\n",
    "\n",
    "\n",
    "Output Format\n",
    "\n",
    "In a single line, output all starting indices where the pattern appears in the string \\( S \\) (indices start from 0). Separate the integers with spaces.\n",
    "\n",
    "\n",
    "Constraints\n",
    "\n",
    "1 ≤ N ≤ 10^5\n",
    "\n",
    "1 ≤ M ≤ 10^6\n",
    "\n",
    "\n",
    "Sample Input:\n",
    "\n",
    "3\n",
    "\n",
    "aba\n",
    "\n",
    "5\n",
    "\n",
    "ababa\n",
    "\n",
    "Sample Output:\n",
    "\n",
    "0 2"
   ]
  },
  {
   "cell_type": "code",
   "execution_count": 7,
   "metadata": {},
   "outputs": [
    {
     "name": "stdout",
     "output_type": "stream",
     "text": [
      "0 "
     ]
    }
   ],
   "source": [
    "'''\n",
    "The basic idea of doing these type of question is that you do it by brute force through exhaustive search\n",
    "then you find which elements are not likely to be search during the process and then avoid it.\n",
    "in kmp, you need to find the fastest way to rematching the pattern when the previous one has failed.\n",
    "it can take advantage of the previous matched prefix-pattern and don't need to compare again!!!!!!\n",
    "'''\n",
    "n = int(input())\n",
    "p = list(input())\n",
    "p.insert(0,1)\n",
    "m = int(input())\n",
    "s = list(input())\n",
    "s.insert(0,1)\n",
    "\n",
    "next = [0] * 100010\n",
    "\n",
    "j = 0\n",
    "for i in range(2,n+1):             # n+1 for last index\n",
    "    while j and p[i] != p[j+1]: j = next[j]\n",
    "    if p[i] == p[j+1]: \n",
    "        j += 1\n",
    "    next[i] = j                   # notice that index is i!!! we need to assign each i a next index\n",
    "\n",
    "j = 0\n",
    "for i in range(1,m+1):            # m+1 for last index\n",
    "    while j and s[i] != p[j+1]: j = next[j]\n",
    "    if s[i] == p[j+1]: j += 1\n",
    "    if j == n:\n",
    "        j = next[j]\n",
    "        print(i - n,end=' ')"
   ]
  }
 ],
 "metadata": {
  "kernelspec": {
   "display_name": "base",
   "language": "python",
   "name": "python3"
  },
  "language_info": {
   "codemirror_mode": {
    "name": "ipython",
    "version": 3
   },
   "file_extension": ".py",
   "mimetype": "text/x-python",
   "name": "python",
   "nbconvert_exporter": "python",
   "pygments_lexer": "ipython3",
   "version": "3.9.12"
  }
 },
 "nbformat": 4,
 "nbformat_minor": 2
}
