{
 "cells": [
  {
   "cell_type": "markdown",
   "metadata": {},
   "source": [
    "### 4 multiple backpack 1\n",
    "#### Problem Description\n",
    "There are \\( N \\) types of items and a backpack with a capacity of \\( V \\).\n",
    "\n",
    "Each type of item \\( i \\) has a maximum of \\( s_i \\) items available. Each item of type \\( i \\) has a volume \\( v_i \\) and a value \\( w_i \\).\n",
    "\n",
    "Determine which items to put into the backpack so that the total volume of the items does not exceed the backpack's capacity and the total value is maximized.\n",
    "Output the maximum value.\n",
    "\n",
    "\n",
    "Input Format:\n",
    "\n",
    "The first line contains two integers, \\( N \\) and \\( V \\), separated by a space, representing the number of types of items and the capacity of the backpack, respectively.\n",
    "\n",
    "The next \\( N \\) lines each contain three integers \\( v_i \\), \\( w_i \\), and \\( s_i \\), separated by a space, representing the volume, value, and quantity available of the \\( i \\)-th type of item, respectively.\n",
    "\n",
    "\n",
    "Output Format\n",
    "\n",
    "Output an integer, representing the maximum value achievable.\n",
    "\n",
    "\n",
    "Constraints\n",
    "\n",
    "0 < N, V ≤ 1000\n",
    "\n",
    "0 < v_i, w_i, s_i ≤ 1000\n",
    "\n",
    "\n",
    "Sample Input:\n",
    "\n",
    "4 5\n",
    "\n",
    "1 2 3\n",
    "\n",
    "2 4 1\n",
    "\n",
    "3 4 3\n",
    "\n",
    "4 5 2\n",
    "\n",
    "Sample Output:\n",
    "\n",
    "10"
   ]
  },
  {
   "cell_type": "code",
   "execution_count": null,
   "metadata": {},
   "outputs": [],
   "source": [
    "N = 110\n",
    "v,w,s = [0]*N, [0]*N, [0]*N\n",
    "f = [[0 for i in range(N)] for j in range(N)]\n",
    "\n",
    "n,m = map(int,input().split())\n",
    "for i in range(1, n + 1):\n",
    "    v[i], w[i], s[i] = map(int,input().split())\n",
    "\n",
    "for i in range(1,n+1):\n",
    "    for j in range(1, m+1):\n",
    "        for k in range(s[i]+1):      # +1 important!!!\n",
    "            if j >= k * v[i]:        # don't forget this\n",
    "                f[i][j] = max(f[i][j],f[i-1][j -k*v[i]]+k*w[i])    # k * !!!!!\n",
    "\n",
    "\n",
    "print(f[n][m])\n",
    "        "
   ]
  }
 ],
 "metadata": {
  "language_info": {
   "name": "python"
  }
 },
 "nbformat": 4,
 "nbformat_minor": 2
}
