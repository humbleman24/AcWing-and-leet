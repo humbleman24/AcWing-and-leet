{
 "cells": [
  {
   "cell_type": "markdown",
   "metadata": {},
   "source": [
    "### 787 Merge Sort\n",
    "\n",
    "#### Problem Description\n",
    "Given an array of `n` elements, please use **Merge Sort** to sort the sequence in ascenting way. And return the sorted array.\n",
    "\n",
    "Input Format:\n",
    "\n",
    "The first line contains an integer `n`, the size of the array.\n",
    "\n",
    "The second line contains `n` integers (the value of each integer is between 1 and 10^9 inclusive), which are the elements of the array.\n",
    "\n",
    "Output Format:\n",
    "\n",
    "Output one line, containing `n` integers, the elements of the array after sorting.\n",
    "\n",
    "Constraints: 1 ≤ `n` ≤ 10000\n",
    "\n",
    "Sample Input:\n",
    "\n",
    "5\n",
    "\n",
    "3 1 2 4 5\n",
    "\n",
    "Sample Output:\n",
    "\n",
    "12345\n"
   ]
  },
  {
   "cell_type": "code",
   "execution_count": null,
   "metadata": {},
   "outputs": [],
   "source": [
    "def mergesort(q, l ,r):\n",
    "    if l >= r:\n",
    "        return \n",
    "    mid = l + r >> 1\n",
    "    mergesort(q, l, mid)\n",
    "    mergesort(q, mid + 1, r)\n",
    "    i, j = l, mid + 1\n",
    "    pivot = 0\n",
    "    while i <= mid and j <= r:\n",
    "        if q[i] <= q[j]:\n",
    "            temp[pivot] = q[i]\n",
    "            pivot += 1\n",
    "            i += 1\n",
    "        else:\n",
    "            temp[pivot] = q[j]\n",
    "            pivot += 1\n",
    "            j += 1\n",
    "    while i <= mid:\n",
    "        temp[pivot] = q[i]\n",
    "        pivot += 1 \n",
    "        i += 1\n",
    "    while j <= r:\n",
    "        temp[pivot] = q[j]\n",
    "        pivot += 1\n",
    "        j += 1\n",
    "    i = l\n",
    "    pivot = 0\n",
    "    while i <= r:\n",
    "        q[i] = temp[pivot]\n",
    "        i += 1\n",
    "        pivot += 1\n",
    "  "
   ]
  },
  {
   "cell_type": "code",
   "execution_count": null,
   "metadata": {},
   "outputs": [],
   "source": [
    "n = int(input())\n",
    "q = list(map(int,input().split()))\n",
    "temp = [None] * 100010\n",
    "\n",
    "mergesort(q,0,n-1)\n",
    "print(' '.join(map(str,q)))"
   ]
  }
 ],
 "metadata": {
  "language_info": {
   "name": "python"
  }
 },
 "nbformat": 4,
 "nbformat_minor": 2
}
