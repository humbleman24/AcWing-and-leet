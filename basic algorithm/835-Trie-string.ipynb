{
 "cells": [
  {
   "cell_type": "markdown",
   "metadata": {},
   "source": [
    "### 835 Trie string tree\n",
    "#### Problem Description\n",
    "Maintain a set of strings that supports two types of operations:\n",
    "\n",
    "- `I x`: Insert a string `x` into the set.a\n",
    "- `Q x`: Query how many times a string `x` has appeared in the set.\n",
    "\n",
    "There are a total of `N` operations, and the total length of all input strings does not exceed `10^5`. The strings only contain lowercase English letters.\n",
    "\n",
    "Input Format:\n",
    "\n",
    "The first line contains an integer \\( N \\), representing the number of operations.\n",
    "\n",
    "The following \\( N \\) lines each contain an operation instruction, which is either `I x` or `Q x`.\n",
    "\n",
    "\n",
    "Output Format\n",
    "\n",
    "For each query command `Q x`, output an integer as the result, representing the number of times `x` appears in the set.\n",
    "\n",
    "Each result should be on a new line.\n",
    "\n",
    "\n",
    "\n",
    "Constraints\n",
    "\n",
    "1 ≤ N ≤ 2 * 10^4\n",
    "\n",
    "\n",
    "\n",
    "Sample Input:\n",
    "\n",
    "5\n",
    "\n",
    "I abc\n",
    "\n",
    "Q abc\n",
    "\n",
    "Q ab\n",
    "\n",
    "I ab\n",
    "\n",
    "Q ab\n",
    "\n",
    "Sample Output:\n",
    "\n",
    "1\n",
    "\n",
    "0\n",
    "\n",
    "1\n"
   ]
  },
  {
   "cell_type": "code",
   "execution_count": 3,
   "metadata": {},
   "outputs": [
    {
     "name": "stdout",
     "output_type": "stream",
     "text": [
      "0\n",
      "0\n",
      "1\n"
     ]
    }
   ],
   "source": [
    "n = int(input())\n",
    "string_dict = {}\n",
    "\n",
    "for i in range(n):\n",
    "    command = input().split()\n",
    "    if command[0] == 'Q':\n",
    "        if command[1] in string_dict.keys():\n",
    "            print(string_dict[command[1]])\n",
    "        else:\n",
    "            print(0)\n",
    "    elif command[0] == 'I':\n",
    "        if command[1] in string_dict.keys():\n",
    "            string_dict[command[1]] += 1\n",
    "        else:\n",
    "            string_dict[command[1]] = 1"
   ]
  },
  {
   "cell_type": "markdown",
   "metadata": {},
   "source": [
    "Trie tree:\n",
    "used to store and search for `string`. It is a set data structure. also call dictionary tree"
   ]
  },
  {
   "cell_type": "code",
   "execution_count": 10,
   "metadata": {},
   "outputs": [
    {
     "name": "stdout",
     "output_type": "stream",
     "text": [
      "0\n"
     ]
    },
    {
     "ename": "IndexError",
     "evalue": "list index out of range",
     "output_type": "error",
     "traceback": [
      "\u001b[1;31m---------------------------------------------------------------------------\u001b[0m",
      "\u001b[1;31mIndexError\u001b[0m                                Traceback (most recent call last)",
      "Input \u001b[1;32mIn [10]\u001b[0m, in \u001b[0;36m<cell line: 28>\u001b[1;34m()\u001b[0m\n\u001b[0;32m     28\u001b[0m \u001b[38;5;28;01mfor\u001b[39;00m i \u001b[38;5;129;01min\u001b[39;00m \u001b[38;5;28mrange\u001b[39m(n):\n\u001b[0;32m     29\u001b[0m     command \u001b[38;5;241m=\u001b[39m \u001b[38;5;28minput\u001b[39m()\u001b[38;5;241m.\u001b[39msplit()\n\u001b[1;32m---> 30\u001b[0m     \u001b[38;5;28;01mif\u001b[39;00m \u001b[43mcommand\u001b[49m\u001b[43m[\u001b[49m\u001b[38;5;241;43m0\u001b[39;49m\u001b[43m]\u001b[49m \u001b[38;5;241m==\u001b[39m \u001b[38;5;124m'\u001b[39m\u001b[38;5;124mQ\u001b[39m\u001b[38;5;124m'\u001b[39m:\n\u001b[0;32m     31\u001b[0m         \u001b[38;5;28mprint\u001b[39m(search(command[\u001b[38;5;241m1\u001b[39m]))\n\u001b[0;32m     32\u001b[0m     \u001b[38;5;28;01melif\u001b[39;00m command[\u001b[38;5;241m0\u001b[39m] \u001b[38;5;241m==\u001b[39m \u001b[38;5;124m'\u001b[39m\u001b[38;5;124mI\u001b[39m\u001b[38;5;124m'\u001b[39m:\n",
      "\u001b[1;31mIndexError\u001b[0m: list index out of range"
     ]
    }
   ],
   "source": [
    "trie = [[0 for j in range(26)] for i in range(100010)]\n",
    "cnt = [0] * 100010\n",
    "idx = 0\n",
    "\n",
    "def insert(str_arr):\n",
    "    global idx\n",
    "    p = 0\n",
    "    for char in str_arr:\n",
    "        s = ord(char) - ord('a')\n",
    "        if trie[p][s] == 0:\n",
    "            idx += 1\n",
    "            trie[p][s] = idx\n",
    "        p = trie[p][s]\n",
    "\n",
    "    cnt[p] += 1\n",
    "\n",
    "def search(str_arr):\n",
    "    p = 0\n",
    "    for char in str_arr:\n",
    "        s = ord(char) - ord('a')\n",
    "        if trie[p][s] == 0:\n",
    "            return 0\n",
    "        p = trie[p][s]\n",
    "    return cnt[p]\n",
    "\n",
    "\n",
    "n = int(input())\n",
    "for i in range(n):\n",
    "    command = input().split()\n",
    "    if command[0] == 'Q':\n",
    "        print(search(command[1]))\n",
    "    elif command[0] == 'I':\n",
    "        insert(command[1])"
   ]
  }
 ],
 "metadata": {
  "kernelspec": {
   "display_name": "base",
   "language": "python",
   "name": "python3"
  },
  "language_info": {
   "codemirror_mode": {
    "name": "ipython",
    "version": 3
   },
   "file_extension": ".py",
   "mimetype": "text/x-python",
   "name": "python",
   "nbconvert_exporter": "python",
   "pygments_lexer": "ipython3",
   "version": "3.9.12"
  }
 },
 "nbformat": 4,
 "nbformat_minor": 2
}
