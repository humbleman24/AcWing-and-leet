{
 "cells": [
  {
   "cell_type": "markdown",
   "metadata": {},
   "source": [
    "### 896 longest acsending sub sequence 2\n",
    "#### Problem Description\n",
    "Given a sequence of length \\( N \\), find the length of the longest strictly increasing subsequence.\n",
    "\n",
    "\n",
    "\n",
    "Input Format:\n",
    "\n",
    "The first line contains an integer \\( N \\).\n",
    "\n",
    "The second line contains \\( N \\) integers, representing the complete sequence.\n",
    "\n",
    "\n",
    "Output Format\n",
    "\n",
    "Output an integer, representing longest number.\n",
    "\n",
    "\n",
    "Constraints\n",
    "\n",
    "1 ≤ N ≤ 100000,\n",
    "\n",
    "-10^9 ≤ Numbers in the sequence ≤ 10^9\n",
    "\n",
    "\n",
    "Sample Input:\n",
    "\n",
    "7\n",
    "\n",
    "3 1 2 1 8 5 6\n",
    "\n",
    "Sample Output:\n",
    "\n",
    "4"
   ]
  },
  {
   "cell_type": "code",
   "execution_count": 1,
   "metadata": {},
   "outputs": [
    {
     "name": "stdout",
     "output_type": "stream",
     "text": [
      "4\n"
     ]
    }
   ],
   "source": [
    "N = 100010\n",
    "q = [0] * N\n",
    "\n",
    "n = int(input())\n",
    "arr = list(map(int,input().split()))\n",
    "arr.insert(0,0)\n",
    "\n",
    "count = 0\n",
    "for i in range(1,n+1):\n",
    "    l,r = 0, count\n",
    "    while l < r:\n",
    "        mid = l + r + 1 >> 1\n",
    "        if q[mid] < arr[i]: l = mid\n",
    "        else: r = mid - 1\n",
    "    count = max(count, r + 1)\n",
    "    q[r+1] = arr[i]\n",
    "\n",
    "print(count)\n"
   ]
  }
 ],
 "metadata": {
  "kernelspec": {
   "display_name": "base",
   "language": "python",
   "name": "python3"
  },
  "language_info": {
   "codemirror_mode": {
    "name": "ipython",
    "version": 3
   },
   "file_extension": ".py",
   "mimetype": "text/x-python",
   "name": "python",
   "nbconvert_exporter": "python",
   "pygments_lexer": "ipython3",
   "version": "3.9.12"
  }
 },
 "nbformat": 4,
 "nbformat_minor": 2
}
