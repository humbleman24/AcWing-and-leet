{
 "cells": [
  {
   "cell_type": "markdown",
   "metadata": {},
   "source": [
    "### 801 Assert the sub array\n",
    "\n",
    "#### Problem Description\n",
    "Given an integer sequence of length `n`: `a1, a2, …, an`, and another integer sequence of length `m`: `b1, b2, …, bm`.\n",
    "\n",
    "Determine if the sequence `a` is a subsequence of the sequence `b`.\n",
    "\n",
    "A subsequence is a sequence that can be derived from another sequence by deleting some or no elements without changing the order of the remaining elements. For example, the sequence `{a1, a3, a5}` is a subsequence of the sequence `{a1, a2, a3, a4, a5}`.\n",
    "\n",
    "\n",
    "Input Format:\n",
    "\n",
    "The first line contains two integers `n`, `m`.\n",
    "\n",
    "The second line contains `n` integers, representing `a1, a2, …, an`.\n",
    "\n",
    "The third line contains `m` integers, representing `b1, b2, …, bm`.\n",
    "\n",
    "\n",
    "\n",
    "\n",
    "Output Format:\n",
    "\n",
    "If the sequence `a` is a subsequence of sequence `b`, output `Yes` on a single line.\n",
    "\n",
    "Otherwise, output `No`.\n",
    "\n",
    "\n",
    "\n",
    "\n",
    "Constraints: \n",
    "1 ≤ `n` ≤ `m` ≤ 10^5,\n",
    "-10^9 ≤ `ai`, `bi` ≤ 10^9\n",
    "\n",
    "\n",
    "Sample Input:\n",
    "\n",
    "3 5\n",
    "\n",
    "1 3 5\n",
    "\n",
    "1 2 3 4 5\n",
    "\n",
    "Sample Output:\n",
    "\n",
    "Yes"
   ]
  },
  {
   "cell_type": "code",
   "execution_count": null,
   "metadata": {},
   "outputs": [],
   "source": [
    "n,m = list(map(int,input().split()))\n",
    "a = list(map(int,input().split()))\n",
    "b = list(map(int,input().split()))\n",
    "\n",
    "i = 0\n",
    "j = 0\n",
    "\n",
    "while i < n and j < m:               # when i == n, means the array is a subarray\n",
    "    if a[i] == b[j]:\n",
    "        i += 1\n",
    "    j += 1\n",
    "    \n",
    "if i == n:\n",
    "    print('Yes')\n",
    "else:\n",
    "    print('No')"
   ]
  }
 ],
 "metadata": {
  "language_info": {
   "name": "python"
  }
 },
 "nbformat": 4,
 "nbformat_minor": 2
}
