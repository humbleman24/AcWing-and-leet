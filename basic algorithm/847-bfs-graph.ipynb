{
 "cells": [
  {
   "cell_type": "markdown",
   "metadata": {},
   "source": [
    "### 847 Bfs in graph\n",
    "#### Problem Description\n",
    "Given a directed graph with \\( n \\) vertices and \\( m \\) edges, the graph may contain parallel edges and self-loops.\n",
    "\n",
    "All edges have a length of 1, and the vertices are numbered from 1 to \\( n \\).\n",
    "\n",
    "Please find the shortest distance from vertex 1 to vertex \\( n \\). If it is not possible to reach vertex \\( n \\) from vertex 1, output \\(-1\\).\n",
    "\n",
    "Input Format:\n",
    "\n",
    "The first line contains two integers \\( n \\) and \\( m \\).\n",
    "\n",
    "The following \\( m \\) lines each contain two integers \\( a \\) and \\( b \\), indicating that there is an edge of length 1 from vertex \\( a \\) to vertex \\( b \\).\n",
    "\n",
    "Output Format\n",
    "\n",
    "Output an integer, representing the shortest distance from vertex 1 to vertex \\( n \\).\n",
    "\n",
    "Constraints\n",
    "\n",
    "1 ≤ n,m ≤ 10^5\n",
    "\n",
    "\n",
    "Sample Input:\n",
    "\n",
    "4 5\n",
    "\n",
    "1 2\n",
    "\n",
    "2 3\n",
    "\n",
    "3 4\n",
    "\n",
    "1 3\n",
    "\n",
    "1 4\n",
    "\n",
    "\n",
    "Sample Output:\n",
    "\n",
    "1"
   ]
  },
  {
   "cell_type": "code",
   "execution_count": 1,
   "metadata": {},
   "outputs": [
    {
     "ename": "ValueError",
     "evalue": "not enough values to unpack (expected 2, got 0)",
     "output_type": "error",
     "traceback": [
      "\u001b[1;31m---------------------------------------------------------------------------\u001b[0m",
      "\u001b[1;31mValueError\u001b[0m                                Traceback (most recent call last)",
      "Input \u001b[1;32mIn [1]\u001b[0m, in \u001b[0;36m<cell line: 29>\u001b[1;34m()\u001b[0m\n\u001b[0;32m     25\u001b[0m                 visit[p] \u001b[38;5;241m=\u001b[39m d \u001b[38;5;241m+\u001b[39m \u001b[38;5;241m1\u001b[39m\n\u001b[0;32m     26\u001b[0m             n \u001b[38;5;241m=\u001b[39m ne[n]\n\u001b[1;32m---> 29\u001b[0m n,m \u001b[38;5;241m=\u001b[39m \u001b[38;5;28mmap\u001b[39m(\u001b[38;5;28mint\u001b[39m,\u001b[38;5;28minput\u001b[39m()\u001b[38;5;241m.\u001b[39msplit())\n\u001b[0;32m     30\u001b[0m \u001b[38;5;28;01mfor\u001b[39;00m i \u001b[38;5;129;01min\u001b[39;00m \u001b[38;5;28mrange\u001b[39m(m):\n\u001b[0;32m     31\u001b[0m     a,b \u001b[38;5;241m=\u001b[39m \u001b[38;5;28mmap\u001b[39m(\u001b[38;5;28mint\u001b[39m,\u001b[38;5;28minput\u001b[39m()\u001b[38;5;241m.\u001b[39msplit())\n",
      "\u001b[1;31mValueError\u001b[0m: not enough values to unpack (expected 2, got 0)"
     ]
    }
   ],
   "source": [
    "from collections import deque\n",
    "N = 100010\n",
    "M = 2 * N\n",
    "h, e, ne = [-1] * N, [-1]*M,[-1]*M\n",
    "idx = 0\n",
    "\n",
    "def add(a,b):\n",
    "    global idx\n",
    "    e[idx] = b\n",
    "    ne[idx] = h[a]\n",
    "    h[a] = idx\n",
    "    idx += 1\n",
    "\n",
    "def bfs():\n",
    "    while len(fringer):\n",
    "        node = fringer.popleft()\n",
    "        d = visit[node]\n",
    "        if node == n:\n",
    "            return d\n",
    "        q = h[node]\n",
    "        while q != -1:\n",
    "            p = e[q]\n",
    "            if p not in visit.keys():\n",
    "                fringer.append(p)\n",
    "                visit[p] = d + 1\n",
    "            q = ne[q]\n",
    "    return -1\n",
    "\n",
    "n,m = map(int,input().split())\n",
    "for i in range(m):\n",
    "    a,b = map(int,input().split())\n",
    "    add(a,b)\n",
    "fringer = deque()\n",
    "fringer.append(1)\n",
    "visit = {1:0}\n",
    "print(bfs())"
   ]
  }
 ],
 "metadata": {
  "kernelspec": {
   "display_name": "base",
   "language": "python",
   "name": "python3"
  },
  "language_info": {
   "codemirror_mode": {
    "name": "ipython",
    "version": 3
   },
   "file_extension": ".py",
   "mimetype": "text/x-python",
   "name": "python",
   "nbconvert_exporter": "python",
   "pygments_lexer": "ipython3",
   "version": "3.9.12"
  }
 },
 "nbformat": 4,
 "nbformat_minor": 2
}
