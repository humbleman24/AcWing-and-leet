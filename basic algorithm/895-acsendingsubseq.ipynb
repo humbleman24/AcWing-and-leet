{
 "cells": [
  {
   "cell_type": "markdown",
   "metadata": {},
   "source": [
    "### 895 longest acsending sub sequence\n",
    "#### Problem Description\n",
    "Given a sequence of length \\( N \\), find the length of the longest strictly increasing subsequence.\n",
    "\n",
    "\n",
    "\n",
    "Input Format:\n",
    "\n",
    "The first line contains an integer \\( N \\).\n",
    "\n",
    "The second line contains \\( N \\) integers, representing the complete sequence.\n",
    "\n",
    "\n",
    "Output Format\n",
    "\n",
    "Output an integer, representing longest number.\n",
    "\n",
    "\n",
    "Constraints\n",
    "\n",
    "1 ≤ N ≤ 1000,\n",
    "\n",
    "-10^9 ≤ Numbers in the sequence ≤ 10^9\n",
    "\n",
    "\n",
    "Sample Input:\n",
    "\n",
    "7\n",
    "\n",
    "3 1 2 1 8 5 6\n",
    "\n",
    "Sample Output:\n",
    "\n",
    "4"
   ]
  },
  {
   "cell_type": "code",
   "execution_count": 1,
   "metadata": {},
   "outputs": [
    {
     "name": "stdout",
     "output_type": "stream",
     "text": [
      "4\n"
     ]
    }
   ],
   "source": [
    "N = 1010\n",
    "f = [0] * N\n",
    "\n",
    "n = int(input())\n",
    "arr = list(map(int,input().split()))\n",
    "\n",
    "for i in range(n):\n",
    "    for j in range(i):\n",
    "        if arr[i] > arr[j]:\n",
    "            f[i] = max(f[i], f[j])\n",
    "    f[i] += 1\n",
    "\n",
    "print(max(f))"
   ]
  }
 ],
 "metadata": {
  "kernelspec": {
   "display_name": "base",
   "language": "python",
   "name": "python3"
  },
  "language_info": {
   "codemirror_mode": {
    "name": "ipython",
    "version": 3
   },
   "file_extension": ".py",
   "mimetype": "text/x-python",
   "name": "python",
   "nbconvert_exporter": "python",
   "pygments_lexer": "ipython3",
   "version": "3.9.12"
  }
 },
 "nbformat": 4,
 "nbformat_minor": 2
}
