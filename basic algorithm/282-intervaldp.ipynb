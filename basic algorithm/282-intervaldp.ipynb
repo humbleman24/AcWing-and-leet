{
 "cells": [
  {
   "cell_type": "markdown",
   "metadata": {},
   "source": [
    "### 282 merge the rocks (interval dynamic programming)\n",
    "#### Problem Description\n",
    "Suppose there are \\( N \\) piles of stones arranged in a row, numbered 1, 2, 3, …, \\( N \\).\n",
    "\n",
    "Each pile of stones has a certain mass, which can be described with an integer. Now, these \\( N \\) piles of stones need to be merged into one single pile.\n",
    "\n",
    "Each time, only two adjacent piles can be merged, and the cost of merging is the sum of the masses of these two piles. After merging, the stones adjacent to these two piles will become adjacent to the new pile. The total cost of merging can vary depending on the order of merging.\n",
    "\n",
    "For example, consider 4 piles of stones with masses 1, 3, 5, and 2. One might first merge the 1st and 2nd piles at a cost of 4, resulting in 4, 5, 2. Then, merge the 1st and 2nd piles again at a cost of 9, resulting in 9, 2. The final merge would then cost 11, for a total cost of 4 + 9 + 11 = 24.\n",
    "\n",
    "However, if the second step were to first merge the 2nd and 3rd piles, the cost would be 7, resulting in 4, 7. The final merge would cost 11, for a total cost of 4 + 7 + 11 = 22.\n",
    "\n",
    "The problem is to find a method of merging that results in the minimum total cost and output this minimum cost.\n",
    "\n",
    "\n",
    "Input Format:\n",
    "\n",
    "The first line contains a number \\( N \\) indicating the number of piles of stones.\n",
    "\n",
    "The second line contains \\( N \\) numbers, representing the mass of each pile of stones (each not exceeding 1000).\n",
    "\n",
    "\n",
    "Output Format\n",
    "\n",
    "Output an integer representing the minimum cost.\n",
    "\n",
    "\n",
    "Constraints\n",
    "\n",
    "1 ≤ N ≤ 300\n",
    "\n",
    "Sample Input:\n",
    "\n",
    "4\n",
    "\n",
    "1 3 5 2\n",
    "\n",
    "Sample Output:\n",
    "\n",
    "22"
   ]
  },
  {
   "cell_type": "code",
   "execution_count": null,
   "metadata": {},
   "outputs": [],
   "source": [
    "# hard!\n",
    "N = 310\n",
    "f = [[0 for i in range(N)] for j in range(N)]\n",
    "\n",
    "\n",
    "n = int(input())\n",
    "arr = list(map(int,input().split()))\n",
    "s = [0] * (n + 1)\n",
    "for i in range(1,n+1):\n",
    "    s[i] = s[i-1] + arr[i-1]\n",
    "\n",
    "for len in range(2,n+1):                             # always start with len of 2\n",
    "    for i in range(1, n - len + 2):\n",
    "        j = i + len - 1                              # j = i + len cannot be examined\n",
    "        f[i][j] = 0x3f3f3f\n",
    "        for k in range(i,j):\n",
    "            f[i][j] = min(f[i][j], f[i][k] + f[k + 1][j] + s[j]-s[i-1])      # k should not be added into two different set\n",
    "\n",
    "print(f[1][n])                       # use the definition of the state \n",
    "            \n",
    "\n",
    "\n",
    "\n"
   ]
  }
 ],
 "metadata": {
  "language_info": {
   "name": "python"
  }
 },
 "nbformat": 4,
 "nbformat_minor": 2
}
