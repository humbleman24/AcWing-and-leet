{
 "cells": [
  {
   "cell_type": "markdown",
   "metadata": {},
   "source": [
    "### 840 simple hash\n",
    "#### Problem Description\n",
    "Maintain a set and support the following operations:\n",
    "\n",
    "- `I x`, insert an integer \\( x \\);\n",
    "- `Q x`, query whether the integer \\( x \\) has appeared in the set;\n",
    "\n",
    "You will perform \\( N \\) operations, and for each query operation, output the corresponding result.\n",
    "\n",
    "Input Format:\n",
    "\n",
    "The first line contains an integer \\( N \\), representing the number of operations.\n",
    "\n",
    "The following \\( N \\) lines each contain an operation instruction, which can be either `I x` or `Q x`.\n",
    "\n",
    "Output Format\n",
    "\n",
    "For each query command `Q x`, output a query result. If \\( x \\) has appeared in the set, output `Yes`; otherwise, output `No`.\n",
    "\n",
    "Each result should be on a new line.\n",
    "\n",
    "\n",
    "Constraints\n",
    "\n",
    "1 ≤ N ≤ 10^5\n",
    "\n",
    "-10^9 ≤ x ≤ 10^9\n",
    "\n",
    "Data is guaranteed to be valid.\n",
    "\n",
    "\n",
    "Sample Input:\n",
    "\n",
    "5\n",
    "\n",
    "I 1\n",
    "\n",
    "I 2\n",
    "\n",
    "I 3\n",
    "\n",
    "Q 2\n",
    "\n",
    "Q 5\n",
    "\n",
    "Sample Output:\n",
    "\n",
    "Yes\n",
    "\n",
    "No"
   ]
  },
  {
   "cell_type": "code",
   "execution_count": 1,
   "metadata": {},
   "outputs": [
    {
     "name": "stdout",
     "output_type": "stream",
     "text": [
      "2\n"
     ]
    }
   ],
   "source": [
    "def find(x):\n",
    "    t = x % N\n",
    "    while h[t] != None and h[t] != x:\n",
    "        t += 1\n",
    "        if t == N:              # important !!\n",
    "            t = 0\n",
    "    return t\n",
    "\n",
    "N = 200003\n",
    "h = [None] * N\n",
    "\n",
    "n = int(input())\n",
    "for i in range(n):\n",
    "    command = input().split()\n",
    "    if command[0] == 'I':\n",
    "        t = find(int(command[1]))\n",
    "        h[t] = int(command[1])\n",
    "    else:\n",
    "        t = find(int(command[1]))\n",
    "        if h[t] != None:\n",
    "            print('Yes')\n",
    "        else:\n",
    "            print('No')\n",
    "\n"
   ]
  }
 ],
 "metadata": {
  "kernelspec": {
   "display_name": "base",
   "language": "python",
   "name": "python3"
  },
  "language_info": {
   "codemirror_mode": {
    "name": "ipython",
    "version": 3
   },
   "file_extension": ".py",
   "mimetype": "text/x-python",
   "name": "python",
   "nbconvert_exporter": "python",
   "pygments_lexer": "ipython3",
   "version": "3.9.12"
  }
 },
 "nbformat": 4,
 "nbformat_minor": 2
}
