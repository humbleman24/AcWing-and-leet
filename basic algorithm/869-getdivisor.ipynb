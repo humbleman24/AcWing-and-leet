{
 "cells": [
  {
   "cell_type": "markdown",
   "metadata": {},
   "source": [
    "### 869 get divisor\n",
    "#### Problem Description\n",
    "Given \\( n \\) positive integers \\( a_i \\), for each integer \\( a_i \\), output all of its divisors in ascending order.\n",
    "\n",
    "\n",
    "Input Format:\n",
    "\n",
    "The first line contains an integer \\( n \\).\n",
    "\n",
    "The following \\( n \\) lines each contain one positive integer \\( a_i \\).\n",
    "\n",
    "\n",
    "\n",
    "Output Format\n",
    "\n",
    "Output \\( n \\) lines, where each \\( i \\)-th line contains all the divisors of the \\( i \\)-th integer \\( a_i \\).\n",
    "\n",
    "\n",
    "\n",
    "Constraints\n",
    "\n",
    "1 ≤ n ≤ 100,\n",
    "\n",
    "2 ≤ a_i ≤ 2 * 10^9\n",
    "\n",
    "\n",
    "Sample Input:\n",
    "\n",
    "2\n",
    "\n",
    "6\n",
    "\n",
    "8\n",
    "\n",
    "\n",
    "Sample Output:\n",
    "\n",
    "1 2 3 6 \n",
    "\n",
    "1 2 4 8 \n"
   ]
  },
  {
   "cell_type": "code",
   "execution_count": 4,
   "metadata": {},
   "outputs": [
    {
     "name": "stdout",
     "output_type": "stream",
     "text": [
      "[1, 2, 3, 6]\n",
      "[1, 2, 4, 8]\n"
     ]
    }
   ],
   "source": [
    "def get_divisor(n):\n",
    "\n",
    "    arr = list()\n",
    "    i = 1\n",
    "    while i <= n / i:\n",
    "        if n % i == 0:\n",
    "            arr.append(i)\n",
    "            if i != n / i: arr.append(int(n/i))\n",
    "        i += 1\n",
    "    arr.sort()\n",
    "    return arr\n",
    "\n",
    "n = int(input())\n",
    "for i in range(n):\n",
    "    arr = get_divisor(int(input()))\n",
    "    print(arr)"
   ]
  }
 ],
 "metadata": {
  "kernelspec": {
   "display_name": "base",
   "language": "python",
   "name": "python3"
  },
  "language_info": {
   "codemirror_mode": {
    "name": "ipython",
    "version": 3
   },
   "file_extension": ".py",
   "mimetype": "text/x-python",
   "name": "python",
   "nbconvert_exporter": "python",
   "pygments_lexer": "ipython3",
   "version": "3.9.12"
  }
 },
 "nbformat": 4,
 "nbformat_minor": 2
}
