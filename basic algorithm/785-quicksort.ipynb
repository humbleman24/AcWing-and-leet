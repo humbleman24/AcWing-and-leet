{
 "cells": [
  {
   "cell_type": "markdown",
   "metadata": {},
   "source": [
    "### 785 Quciksort\n",
    "\n",
    "#### Problem Description\n",
    "Given an array of `n` elements, please use **Quick Sort** to sort the sequence in ascenting way. And return the sorted array.\n",
    "\n",
    "Input Format:\n",
    "\n",
    "The first line contains an integer `n`, the size of the array.\n",
    "\n",
    "The second line contains `n` integers (the value of each integer is between 1 and 10^9 inclusive), which are the elements of the array.\n",
    "\n",
    "Output Format:\n",
    "\n",
    "Output one line, containing `n` integers, the elements of the array after sorting.\n",
    "\n",
    "Constraints: 1 ≤ `n` ≤ 10000\n",
    "\n",
    "Sample Input:\n",
    "\n",
    "5\n",
    "\n",
    "3 1 2 4 5\n",
    "\n",
    "Sample Output:\n",
    "\n",
    "12345\n"
   ]
  },
  {
   "cell_type": "code",
   "execution_count": null,
   "metadata": {},
   "outputs": [],
   "source": [
    "# A wrong try\n",
    "def quicksort1(n,lst):\n",
    "    if n < 2:\n",
    "        return lst\n",
    "    p = n-1\n",
    "    l = 0\n",
    "    r = n-2\n",
    "    while l != r:\n",
    "        if lst[l] <= lst[p]:\n",
    "            l += 1\n",
    "        else:\n",
    "            if lst[r] >= lst[p]:\n",
    "                r -= 1\n",
    "            else:\n",
    "                lst[l], lst[r] = lst[r], lst[l]\n",
    "    if lst[p] < lst[l]:\n",
    "        lst[p], lst[l] = lst[l], lst[p]\n",
    "        lst[0:l] = quicksort1(l, lst[0:l])\n",
    "        lst[l+1:n] = quicksort1(n-l-1,lst[l+1:n])\n",
    "    else:\n",
    "        lst[0:l+1] = quicksort1(l+1, lst[0:l+1])\n",
    "        lst[l+1:n] = quicksort1(n-l-1,lst[l+1:n])\n",
    "    return lst"
   ]
  },
  {
   "cell_type": "code",
   "execution_count": null,
   "metadata": {},
   "outputs": [],
   "source": [
    "# complicated one\n",
    "def quicksort2(array):\n",
    "    if len(array) < 2:\n",
    "        return array\n",
    "\n",
    "    # 选择最后一个元素作为基准值\n",
    "    pivot_index = len(array) - 1\n",
    "    pivot_value = array[pivot_index]\n",
    "\n",
    "    # 用两个指针分割列表\n",
    "    left_index = 0\n",
    "    right_index = len(array) - 2\n",
    "\n",
    "    while left_index <= right_index:\n",
    "        # 在左侧找到第一个比基准值大的元素\n",
    "        while array[left_index] < pivot_value:\n",
    "            left_index += 1\n",
    "\n",
    "        # 在右侧找到第一个比基准值小的元素\n",
    "        while right_index >= 0 and array[right_index] > pivot_value:\n",
    "            right_index -= 1\n",
    "\n",
    "        # 交换两个指针所指向的元素\n",
    "        if left_index <= right_index:\n",
    "            array[left_index], array[right_index] = array[right_index], array[left_index]\n",
    "            left_index += 1\n",
    "            right_index -= 1\n",
    "\n",
    "    # 将基准值移到正确的位置\n",
    "    array[pivot_index], array[left_index] = array[left_index], array[pivot_index]\n",
    "\n",
    "    # 递归排序左右两个子列表\n",
    "    left = quicksort2(array[:left_index])\n",
    "    right = quicksort2(array[left_index+1:])\n",
    "\n",
    "    # 返回排序后的列表\n",
    "    return left + [pivot_value] + right"
   ]
  },
  {
   "cell_type": "code",
   "execution_count": null,
   "metadata": {},
   "outputs": [],
   "source": [
    "# pattern \n",
    "def quicksort3(q,l,r):\n",
    "    if l >= r:\n",
    "        return \n",
    "    i = l-1\n",
    "    j = r+1\n",
    "    x = q[l+r>>1]  # right shift operator, same as divided by two. Finding the middle index of the array\n",
    "    while i < j:\n",
    "        i += 1\n",
    "        while q[i] < x:\n",
    "            i += 1\n",
    "        j -= 1\n",
    "        while q[j] > x:\n",
    "            j -= 1\n",
    "        \n",
    "        if i < j:\n",
    "            q[i], q[j] = q[j], q[i]\n",
    "        \n",
    "    quicksort3(q,l,j)\n",
    "    quicksort3(q,j+1,r)"
   ]
  },
  {
   "cell_type": "code",
   "execution_count": 1,
   "metadata": {},
   "outputs": [],
   "source": [
    "def quicksort_revise(q,l,r):\n",
    "    if l >= r:\n",
    "        return\n",
    "    i = l - 1\n",
    "    j = r + 1\n",
    "    mid = q[l + r >> 1]\n",
    "    while i < j:\n",
    "        i += 1\n",
    "        while q[i] < mid:\n",
    "            i += 1\n",
    "        j -= 1\n",
    "        while q[j] > mid:\n",
    "            j -= 1\n",
    "        if i < j:\n",
    "            q[i], q[j] = q[j], q[i]\n",
    "    quicksort_revise(q,l,j)\n",
    "    quicksort_revise(q,j+1,r)"
   ]
  },
  {
   "cell_type": "code",
   "execution_count": 3,
   "metadata": {},
   "outputs": [
    {
     "name": "stdout",
     "output_type": "stream",
     "text": [
      "12378910\n"
     ]
    }
   ],
   "source": [
    "# execution7\n",
    "n = int(input())\n",
    "q = list(map(int,input().split()))\n",
    "\n",
    "quicksort_revise(q,0,n-1)\n",
    "print(''.join(map(str,q)))\n"
   ]
  }
 ],
 "metadata": {
  "kernelspec": {
   "display_name": "base",
   "language": "python",
   "name": "python3"
  },
  "language_info": {
   "codemirror_mode": {
    "name": "ipython",
    "version": 3
   },
   "file_extension": ".py",
   "mimetype": "text/x-python",
   "name": "python",
   "nbconvert_exporter": "python",
   "pygments_lexer": "ipython3",
   "version": "3.9.12"
  }
 },
 "nbformat": 4,
 "nbformat_minor": 2
}
