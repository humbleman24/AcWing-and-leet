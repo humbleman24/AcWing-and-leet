{
 "cells": [
  {
   "cell_type": "markdown",
   "metadata": {},
   "source": [
    "### 878 linear congruence\n",
    "#### Problem Description\n",
    "\n",
    "Given \\( n \\) sets of data \\( a_i, b_i, m_i \\), for each set, find an \\( x_i \\) such that it satisfies the congruence \\( a_i \\times x_i \\equiv b_i \\) (mod \\( m_i \\)). If no solution exists, output `impossible`.\n",
    "\n",
    "\n",
    "Input Format:\n",
    "\n",
    "The first line contains an integer \\( n \\).\n",
    "\n",
    "The following \\( n \\) lines each contain a set of data \\( a_i, b_i, m_i \\).\n",
    "\n",
    "\n",
    "Output Format\n",
    "\n",
    "Output \\( n \\) lines, each line representing a solution for each set of data. Output an integer representing a satisfying \\( x_i \\) for each set, or `impossible` if no solution exists.\n",
    "\n",
    "Each result should occupy one line. The results may not be unique; any integer that satisfies the conditions is acceptable.\n",
    "\n",
    "The output answer must be within the range of an `int`.\n",
    "\n",
    "Constraints\n",
    "\n",
    "1 ≤ n ≤ 10^5,\n",
    "\n",
    "2 ≤ a_i, b_i, m_i ≤ 2 * 10^9\n",
    "\n",
    "\n",
    "Sample Input:\n",
    "\n",
    "2\n",
    "\n",
    "2 3 6\n",
    "\n",
    "4 3 5\n",
    "\n",
    "\n",
    "Sample Output:\n",
    "\n",
    "impossible\n",
    "\n",
    "-3\n"
   ]
  },
  {
   "cell_type": "code",
   "execution_count": null,
   "metadata": {},
   "outputs": [],
   "source": []
  }
 ],
 "metadata": {
  "language_info": {
   "name": "python"
  }
 },
 "nbformat": 4,
 "nbformat_minor": 2
}
