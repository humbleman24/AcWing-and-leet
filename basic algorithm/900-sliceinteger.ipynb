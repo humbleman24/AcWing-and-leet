{
 "cells": [
  {
   "cell_type": "markdown",
   "metadata": {},
   "source": [
    "### 900 slice integers\n",
    "#### Problem Description\n",
    "A positive integer \\( n \\) can be expressed as the sum of several positive integers, like: \\( n = n_1 + n_2 + ... + n_k \\), where \\( n_1 ≥ n_2 ≥ ... ≥n_k \\) and \\( k ≥ 1 \\).\n",
    "\n",
    "This representation is referred to as a partition of the positive integer \\( n \\).\n",
    "\n",
    "Now, given a positive integer \\( n \\), please calculate how many different partition methods there are for \\( n \\).\n",
    "\n",
    "\n",
    "Input Format:\n",
    "\n",
    "A single line containing an integer \\( n \\).\n",
    "\n",
    "\n",
    "Output Format\n",
    "\n",
    "Output a single integer, representing the total number of partitions.\n",
    "\n",
    "Since the answer may be large, please output the result modulo \\( 10^9 + 7 \\).\n",
    "\n",
    "\n",
    "Constraints\n",
    "\n",
    "1 ≤ n ≤ 1000\n",
    "\n",
    "Sample Input:\n",
    "\n",
    "5\n",
    "\n",
    "Sample Output:\n",
    "\n",
    "7"
   ]
  },
  {
   "cell_type": "code",
   "execution_count": null,
   "metadata": {},
   "outputs": [],
   "source": [
    "## using the complete dp\n",
    "N = 1010\n",
    "M = 1e9 + 7\n",
    "f = [0 for i in range(N)]\n",
    "\n",
    "n = int(input())\n",
    "f[0] = 1                          # represent the 0\n",
    "\n",
    "for i in range(1, n+1):\n",
    "    for j in range(i,n+1):        # only when j is greater than i\n",
    "        f[j] = (f[j] + f[j - i]) % M\n",
    "\n",
    "print(int(f[n]))"
   ]
  },
  {
   "cell_type": "code",
   "execution_count": null,
   "metadata": {},
   "outputs": [],
   "source": [
    "# using another state representation\n",
    "# f[i][j] means the set containing exact j numbers of integers with sum of i\n",
    "# f[i][j] = f[i-1][j-1]      +       f[i-j][j]\n",
    "#           smallest is 1            smallest bigger than 1\n",
    "\n",
    "N = 1010\n",
    "M = 1e9 + 7\n",
    "f = [[0 for i in range(N)] for j in range(N)]\n",
    "n = int(input())\n",
    "f[0][0] = 1\n",
    "\n",
    "for i in range(1, n + 1):\n",
    "    for j in range(1, i + 1):             # j's number cannot exceed i, only possible set is {1,1,1,1,1} having the length of i\n",
    "        f[i][j] = (f[i - 1][j - 1] + f[i - j][j]) % M\n",
    "\n",
    "\n",
    "res = 0\n",
    "for i in range(1, n + 1):\n",
    "    res += f[n][i]            \n",
    "\n",
    "print(int(res % M))\n"
   ]
  }
 ],
 "metadata": {
  "language_info": {
   "name": "python"
  }
 },
 "nbformat": 4,
 "nbformat_minor": 2
}
