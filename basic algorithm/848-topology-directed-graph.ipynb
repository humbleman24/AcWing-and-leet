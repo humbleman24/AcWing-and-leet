{
 "cells": [
  {
   "cell_type": "markdown",
   "metadata": {},
   "source": [
    "### 848 Topology of directd graph\n",
    "#### Problem Description\n",
    "Given a directed graph with \\( n \\) vertices and \\( m \\) edges, where the vertices are numbered from 1 to \\( n \\), and the graph may contain parallel edges and self-loops.\n",
    "\n",
    "Please output any topological order of this directed graph. If a topological order does not exist, output \\(-1\\).\n",
    "\n",
    "A sequence \\( A \\) of all the vertices in the graph is considered a topological order if, for every edge \\((x, y)\\) in the graph, \\( x \\) appears before \\( y \\) in sequence \\( A \\).\n",
    "\n",
    "\n",
    "Input Format:\n",
    "\n",
    "The first line contains two integers \\( n \\) and \\( m \\).\n",
    "\n",
    "The following \\( m \\) lines each contain two integers \\( x \\) and \\( y \\), indicating that there is a directed edge from vertex \\( x \\) to vertex \\( y \\).\n",
    "\n",
    "\n",
    "Output Format\n",
    "\n",
    "In a single line, if a topological order exists, output any valid topological sequence.\n",
    "\n",
    "Otherwise, output \\(-1\\).\n",
    "\n",
    "\n",
    "Constraints\n",
    "\n",
    "1 ≤ n,m ≤ 10^5\n",
    "\n",
    "\n",
    "Sample Input:\n",
    "\n",
    "3 3\n",
    "\n",
    "1 2\n",
    "\n",
    "2 3\n",
    "\n",
    "1 3\n",
    "\n",
    "\n",
    "Sample Output:\n",
    "\n",
    "1 2 3"
   ]
  },
  {
   "cell_type": "code",
   "execution_count": 1,
   "metadata": {},
   "outputs": [
    {
     "name": "stdout",
     "output_type": "stream",
     "text": [
      "100010 100010\n"
     ]
    }
   ],
   "source": [
    "M = N = 100010\n",
    "h, e, ne, d ,fringer= [-1] * N, [-1] * N, [-1] * N, [0] * N, [0] * N\n",
    "idx = 0\n",
    "def add(a,b):\n",
    "    global idx\n",
    "    e[idx] = b\n",
    "    ne[idx] = h[a]\n",
    "    h[a] = idx\n",
    "    d[b] += 1\n",
    "    idx += 1\n",
    "\n",
    "def bfs():\n",
    "    hh, tt = -1, 0\n",
    "    for p in range(1,n+1):\n",
    "        if d[p] == 0:\n",
    "            fringer[tt] = p\n",
    "            tt += 1\n",
    "    while tt-hh > 1:\n",
    "        hh += 1\n",
    "        p = fringer[hh]\n",
    "        next = h[p]\n",
    "        while next != -1:\n",
    "            j = e[next]\n",
    "            d[j] -= 1\n",
    "            if d[j] == 0:\n",
    "                fringer[tt] = j\n",
    "                tt += 1\n",
    "            next = ne[next]\n",
    "    return tt\n",
    "\n",
    "n, m = map(int,input().split())\n",
    "for i in range(m):\n",
    "    a,b = map(int,input().split())\n",
    "    add(a,b)\n",
    "tt = bfs()\n",
    "\n",
    "if tt == n:\n",
    "    for i in range(tt):\n",
    "        print(fringer[i],end=' ')\n",
    "else:\n",
    "    print(-1)\n"
   ]
  }
 ],
 "metadata": {
  "kernelspec": {
   "display_name": "base",
   "language": "python",
   "name": "python3"
  },
  "language_info": {
   "codemirror_mode": {
    "name": "ipython",
    "version": 3
   },
   "file_extension": ".py",
   "mimetype": "text/x-python",
   "name": "python",
   "nbconvert_exporter": "python",
   "pygments_lexer": "ipython3",
   "version": "3.9.12"
  }
 },
 "nbformat": 4,
 "nbformat_minor": 2
}
