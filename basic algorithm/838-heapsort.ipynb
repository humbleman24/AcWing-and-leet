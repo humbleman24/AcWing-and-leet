{
 "cells": [
  {
   "cell_type": "markdown",
   "metadata": {},
   "source": [
    "### 838 heap sort\n",
    "#### Problem Description\n",
    "Input a sequence of integers of length \\( n \\). Output the smallest \\( m \\) numbers in ascending order.\n",
    "\n",
    "Input Format:\n",
    "\n",
    "The first line contains two integers \\( n \\) and \\( m \\).\n",
    "\n",
    "The second line contains \\( n \\) integers, representing the sequence of integers.\n",
    "\n",
    "\n",
    "Output Format\n",
    "\n",
    "A single line containing \\( m \\) integers, representing the smallest \\( m \\) numbers from the integer sequence.\n",
    "\n",
    "Constraints\n",
    "\n",
    "1 ≤ m ≤ n ≤ 10^5,\n",
    "1 ≤ Elements in the sequence ≤ 10^9\n",
    "\n",
    "Sample Input:\n",
    "\n",
    "5 3\n",
    "\n",
    "4 5 1 3 2\n",
    "\n",
    "Sample Output:\n",
    "\n",
    "1 2 3"
   ]
  },
  {
   "cell_type": "code",
   "execution_count": 5,
   "metadata": {},
   "outputs": [
    {
     "name": "stdout",
     "output_type": "stream",
     "text": [
      "100010\n",
      "1 2 3 "
     ]
    }
   ],
   "source": [
    "'''\n",
    "similar as priorty queue\n",
    "it is a complete tree, in which every father node is smaller than two son nodes. It means that the root is always the smallest value.\n",
    "using a 1D array to store the binary tree. left node is 2*x and right node is 2*x + 1\n",
    "'''\n",
    "def down(x):\n",
    "    t = x\n",
    "    # must use size!!!!!!!!!!!!!!!! size would change during the cutting the trees.\n",
    "    if 2*x <= size and h[t] > h[2*x]: t = 2 * x                  # don't forget =\n",
    "    if 2*x +1 <= size and h[t] > h[2*x+1]: t = 2 * x + 1          # don't forget =\n",
    "    if t != x:\n",
    "        h[x], h[t] = h[t], h[x]\n",
    "        down(t)\n",
    "\n",
    "n,m = map(int,input().split())\n",
    "h = [0] * 100010\n",
    "\n",
    "arr = list(map(int,input().split()))\n",
    "h[1:n+1] = arr                                # start with 1\n",
    "size = n                                      # size would be n\n",
    "for i in range(n//2,0,-1):\n",
    "    down(i)\n",
    "\n",
    "\n",
    "for i in range(m):\n",
    "    print(h[1],end=' ')\n",
    "    h[1] = h[size]\n",
    "    size -= 1\n",
    "    down(1)\n",
    "\n"
   ]
  }
 ],
 "metadata": {
  "kernelspec": {
   "display_name": "base",
   "language": "python",
   "name": "python3"
  },
  "language_info": {
   "codemirror_mode": {
    "name": "ipython",
    "version": 3
   },
   "file_extension": ".py",
   "mimetype": "text/x-python",
   "name": "python",
   "nbconvert_exporter": "python",
   "pygments_lexer": "ipython3",
   "version": "3.9.12"
  }
 },
 "nbformat": 4,
 "nbformat_minor": 2
}
