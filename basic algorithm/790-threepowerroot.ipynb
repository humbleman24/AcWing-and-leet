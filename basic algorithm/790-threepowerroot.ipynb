{
 "cells": [
  {
   "cell_type": "markdown",
   "metadata": {},
   "source": [
    "### 790 Three Power root\n",
    "\n",
    "#### Problem Description\n",
    "Given a float `n`, calculate the three power root.\n",
    "\n",
    "\n",
    "Input Format:\n",
    "\n",
    "One line, containing a float number `n`.\n",
    "\n",
    "Output Format:\n",
    "\n",
    "One line, containing a float number as the solution of the problem\n",
    "\n",
    "Notice: result should keep six decimal.\n",
    "\n",
    "\n",
    "Constraints: -10000 ≤ `n` ≤ 10000\n",
    "\n",
    "Sample Input:\n",
    "\n",
    "1000.00\n",
    "\n",
    "Sample Output:\n",
    "\n",
    "10.000000\n"
   ]
  },
  {
   "cell_type": "code",
   "execution_count": null,
   "metadata": {},
   "outputs": [],
   "source": [
    "def root(n):\n",
    "    l = -10000.000000\n",
    "    r = 10000.000000\n",
    "    while (r - l > 1E-8):\n",
    "        mid = (l + r) / 2\n",
    "        if mid ** 3 >= n:\n",
    "            r = mid\n",
    "        else:\n",
    "            l = mid\n",
    "\n",
    "    return '%.6f'%l"
   ]
  },
  {
   "cell_type": "code",
   "execution_count": null,
   "metadata": {},
   "outputs": [],
   "source": [
    "n = float(input())\n",
    "print(root(n))"
   ]
  }
 ],
 "metadata": {
  "language_info": {
   "name": "python"
  }
 },
 "nbformat": 4,
 "nbformat_minor": 2
}
