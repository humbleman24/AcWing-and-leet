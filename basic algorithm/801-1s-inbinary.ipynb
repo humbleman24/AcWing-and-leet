{
 "cells": [
  {
   "cell_type": "markdown",
   "metadata": {},
   "source": [
    "### 802 calculate the number of 1s in binary representation\n",
    "\n",
    "#### Problem Description\n",
    "Given a sequence of length `n`, calculate the number of `1`s in the binary representation of each number in the sequence.\n",
    "\n",
    "Input Format:\n",
    "\n",
    "The first line contains an integer `n`.\n",
    "\n",
    "The second line contains `n` integers, representing the entire sequence.\n",
    "\n",
    "\n",
    "\n",
    "Output Format:\n",
    "\n",
    "A single line containing `n` integers, where the `i`-th number represents the number of `1`s in the binary representation of the `i`-th number in the sequence.\n",
    "\n",
    "\n",
    "\n",
    "Constraints: \n",
    "1 ≤ `n` ≤ 100,000,\n",
    "0 ≤ Value of elements in the sequence ≤ 10^9\n",
    "\n",
    "\n",
    "Sample Input:\n",
    "\n",
    "5\n",
    "\n",
    "1 2 3 4 5\n",
    "\n",
    "Sample Output:\n",
    "\n",
    "1 1 2 1 2"
   ]
  },
  {
   "cell_type": "code",
   "execution_count": null,
   "metadata": {},
   "outputs": [],
   "source": [
    "n = int(input())\n",
    "\n",
    "a = list(map(int,input().split()))\n",
    "\n",
    "def lowbit(x):                        # find the lowest 1\n",
    "    return x & -x\n",
    "    \n",
    "res = []\n",
    "\n",
    "for i in range(n):\n",
    "    res.append(0)\n",
    "    while a[i]:\n",
    "        a[i] -= lowbit(a[i])          # mins the lowest 1 every time\n",
    "        res[i] += 1                   # plus one\n",
    "        \n",
    "print(' '.join(map(str,res)))"
   ]
  }
 ],
 "metadata": {
  "language_info": {
   "name": "python"
  }
 },
 "nbformat": 4,
 "nbformat_minor": 2
}
