{
 "cells": [
  {
   "cell_type": "markdown",
   "metadata": {},
   "source": [
    "### 867 decomposite by prime\n",
    "#### Problem Description\n",
    "Given \\( n \\) positive integers \\( a_i \\), decompose each number into its prime factors and output each prime factor's base and exponent in ascending order.\n",
    "\n",
    "Input Format:\n",
    "\n",
    "The first line contains an integer \\( n \\).\n",
    "\n",
    "The following \\( n \\) lines each contain one positive integer \\( a_i \\).\n",
    "\n",
    "\n",
    "\n",
    "Output Format\n",
    "\n",
    "For each positive integer \\( a_i \\), output the base and exponent of each prime factor in ascending order, with each base and exponent on a separate line.\n",
    "\n",
    "After all prime factors of each positive integer are completely output, print an empty line.\n",
    "\n",
    "\n",
    "Constraints\n",
    "\n",
    "1 ≤ n ≤ 100,\n",
    "2 ≤ a_i ≤ 2 * 10^9\n",
    "\n",
    "\n",
    "\n",
    "\n",
    "Sample Input:\n",
    "\n",
    "2\n",
    "\n",
    "6\n",
    "\n",
    "8\n",
    "\n",
    "Sample Output:\n",
    "\n",
    "2 1\n",
    "\n",
    "3 1\n",
    "\n",
    " \n",
    " .....\n",
    "\n",
    "2 3\n"
   ]
  },
  {
   "cell_type": "code",
   "execution_count": null,
   "metadata": {},
   "outputs": [],
   "source": [
    "def divid(x):\n",
    "    i = 2\n",
    "    while i <= x / i:                               # there is only one prime can be larger than the sqrt(n)\n",
    "        if x % i == 0:\n",
    "            c = 0\n",
    "            while x % i == 0:                       # cancel out all the not prime \n",
    "                x /= i\n",
    "                c += 1\n",
    "            print(int(i),c)\n",
    "        i += 1\n",
    "    if x > 1:\n",
    "        print(int(x),1)\n",
    "\n",
    "\n",
    "n = int(input())\n",
    "for i in range(n):\n",
    "    divid(int(input()))\n",
    "    print()\n"
   ]
  }
 ],
 "metadata": {
  "language_info": {
   "name": "python"
  }
 },
 "nbformat": 4,
 "nbformat_minor": 2
}
