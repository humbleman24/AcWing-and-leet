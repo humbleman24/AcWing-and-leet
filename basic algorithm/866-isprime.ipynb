{
 "cells": [
  {
   "cell_type": "markdown",
   "metadata": {},
   "source": [
    "### 866 get prime\n",
    "#### Problem Description\n",
    "Given \\( n \\) positive integers \\( a_i \\), determine whether each number is a prime number.\n",
    "\n",
    "\n",
    "Input Format:\n",
    "\n",
    "The first line contains an integer \\( n \\).\n",
    "\n",
    "The following \\( n \\) lines each contain one positive integer \\( a_i \\).\n",
    "\n",
    "\n",
    "\n",
    "Output Format\n",
    "\n",
    "Output \\( n \\) lines, where the \\( i \\)-th line indicates whether the \\( i \\)-th positive integer \\( a_i \\) is a prime number. If it is a prime, output `Yes`; otherwise, output `No`.\n",
    "\n",
    "\n",
    "Constraints\n",
    "\n",
    "1 ≤ n ≤ 100,\n",
    "\n",
    "1 ≤ a_i ≤ 2^31 - 1\n",
    "\n",
    "\n",
    "\n",
    "Sample Input:\n",
    "\n",
    "2\n",
    "\n",
    "2\n",
    "\n",
    "6\n",
    "\n",
    "Sample Output:\n",
    "\n",
    "Yes\n",
    "\n",
    "No"
   ]
  },
  {
   "cell_type": "code",
   "execution_count": null,
   "metadata": {},
   "outputs": [],
   "source": [
    "\n",
    "def is_prime(x):\n",
    "    if x < 2: return False\n",
    "    i = 2\n",
    "    while i <= x / i:             # don't forget equal!!!!! think about 4\n",
    "        if x % i == 0:\n",
    "            return False\n",
    "        i += 1\n",
    "    return True\n",
    "\n",
    "n = int(input())\n",
    "for i in range(n):\n",
    "    if is_prime(int(input())):\n",
    "        print(\"Yes\")\n",
    "    else:\n",
    "        print(\"No\")\n",
    "\n",
    "\n"
   ]
  }
 ],
 "metadata": {
  "language_info": {
   "name": "python"
  }
 },
 "nbformat": 4,
 "nbformat_minor": 2
}
